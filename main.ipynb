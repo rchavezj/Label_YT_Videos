{
 "cells": [
  {
   "cell_type": "code",
   "execution_count": 1,
   "metadata": {
    "collapsed": false
   },
   "outputs": [
    {
     "name": "stdout",
     "output_type": "stream",
     "text": [
      "frame\n",
      "models\n",
      "oldData\n",
      "video\n",
      "\n"
     ]
    },
    {
     "name": "stderr",
     "output_type": "stream",
     "text": [
      "/Users/user/anaconda/lib/python3.6/site-packages/h5py/__init__.py:36: FutureWarning: Conversion of the second argument of issubdtype from `float` to `np.floating` is deprecated. In future, it will be treated as `np.float64 == np.dtype(float).type`.\n",
      "  from ._conv import register_converters as _register_converters\n"
     ]
    }
   ],
   "source": [
    "# This Python 3 environment comes with many helpful analytics libraries installed\n",
    "# It is defined by the kaggle/python docker image: https://github.com/kaggle/docker-python\n",
    "# For example, here's several helpful packages to load in \n",
    "import os\n",
    "import numpy as np # linear algebra\n",
    "import pandas as pd # data processing, CSV file I/O (e.g. pd.read_csv)\n",
    "from sklearn.model_selection import train_test_split\n",
    "os.environ['TF_CPP_MIN_LOG_LEVEL']='2'\n",
    "# Input data files are available in the \"../input/\" directory.\n",
    "# For example, running this (by clicking run or pressing Shift+Enter) will list the files in the input directory\n",
    "import subprocess\n",
    "from subprocess import check_output\n",
    "try:\n",
    "    print(check_output([\"ls\", \"../v2\"]).decode(\"utf8\"))\n",
    "except subprocess.CalledProcessError as e:\n",
    "    raise RuntimeError(\"command '{}' return with error (code {}): {}\".format(e.cmd, e.returncode, e.output))\n",
    "# Any results you write to the current directory are saved as output.\n",
    "import tensorflow as tf"
   ]
  },
  {
   "cell_type": "code",
   "execution_count": 2,
   "metadata": {
    "collapsed": true
   },
   "outputs": [],
   "source": [
    "# now, let's read the frame-level data\n",
    "# due to execution time, we're only going to read the first video\n",
    "video_files = os.listdir(\"../v2/video/\")\n",
    "frame_files = os.listdir(\"../v2/frame/\")"
   ]
  },
  {
   "cell_type": "code",
   "execution_count": 3,
   "metadata": {
    "collapsed": true
   },
   "outputs": [],
   "source": [
    "# Global variables\n",
    "num_labels = 4716"
   ]
  },
  {
   "cell_type": "code",
   "execution_count": 4,
   "metadata": {
    "collapsed": true
   },
   "outputs": [],
   "source": [
    "def createTargetVec(labels):\n",
    "    out = np.zeros((1, num_labels))\n",
    "    for label in labels:\n",
    "        out[0,label] = 1\n",
    "    return out"
   ]
  },
  {
   "cell_type": "code",
   "execution_count": 5,
   "metadata": {
    "collapsed": true
   },
   "outputs": [],
   "source": [
    "def get_dataset(frames, samples=5, k=0):\n",
    "    rgb_input = np.empty((samples, 100, 1024))\n",
    "    audio_input = np.empty((samples, 100, 128))\n",
    "    label_output = np.empty((samples, num_labels))\n",
    "    sess = tf.InteractiveSession()\n",
    "    for example in tf.python_io.tf_record_iterator(frames):        \n",
    "        tf_seq_example = tf.train.SequenceExample.FromString(example)\n",
    "        labels = tf_seq_example.context.feature['labels'].int64_list.value\n",
    "        rgb_frame = np.zeros((100, 1024))\n",
    "        audio_frame = np.zeros((100, 128))\n",
    "        for i in range(100):\n",
    "            rgb_frame[i] = tf.cast(tf.decode_raw(\n",
    "                   tf_seq_example.feature_lists.feature_list['rgb'].feature[i].bytes_list.value[0],tf.uint8)\n",
    "                          ,tf.float32).eval()\n",
    "            audio_frame[i] = tf.cast(tf.decode_raw(\n",
    "                    tf_seq_example.feature_lists.feature_list['audio'].feature[i].bytes_list.value[0],tf.uint8)\n",
    "                           ,tf.float32).eval()\n",
    "        rgb_input[k] = rgb_frame\n",
    "        audio_input[k] = audio_frame\n",
    "        label_output[k] = createTargetVec(labels[:])\n",
    "        k += 1\n",
    "        progress = (k / samples) * 100\n",
    "        if int(progress) % 10 == 0:\n",
    "            print(\"Progress\", progress, \"%\")\n",
    "        if k >= samples:\n",
    "            break\n",
    "    sess.close()\n",
    "    return audio_input, rgb_input, label_output"
   ]
  },
  {
   "cell_type": "markdown",
   "metadata": {},
   "source": [
    "# Getting the data"
   ]
  },
  {
   "cell_type": "code",
   "execution_count": 7,
   "metadata": {
    "collapsed": false
   },
   "outputs": [
    {
     "name": "stdout",
     "output_type": "stream",
     "text": [
      "Progress 20.0 %\n",
      "Progress 40.0 %\n",
      "Progress 60.0 %\n",
      "Progress 80.0 %\n",
      "Progress 100.0 %\n"
     ]
    }
   ],
   "source": [
    "    frame_lvl_record = \"../v2/frame/train4f.tfrecord\"\n",
    "\n",
    "    audio_input, rgb_input, label_output = get_dataset(frame_lvl_record)\n",
    "\n",
    "    X_train_rgb, X_test_rgb, _, _ = train_test_split(rgb_input, label_output, test_size=0.2, random_state=42)\n",
    "    X_train_audio, X_test_audio, y_train, y_test = train_test_split(audio_input, label_output, test_size=0.2, random_state=42)"
   ]
  },
  {
   "cell_type": "code",
   "execution_count": 9,
   "metadata": {
    "collapsed": false
   },
   "outputs": [
    {
     "data": {
      "text/plain": [
       "(4, 100, 1024)"
      ]
     },
     "execution_count": 9,
     "metadata": {},
     "output_type": "execute_result"
    }
   ],
   "source": [
    "X_train_rgb.shape"
   ]
  },
  {
   "cell_type": "code",
   "execution_count": 10,
   "metadata": {
    "collapsed": false
   },
   "outputs": [
    {
     "data": {
      "text/plain": [
       "(1, 100, 1024)"
      ]
     },
     "execution_count": 10,
     "metadata": {},
     "output_type": "execute_result"
    }
   ],
   "source": [
    "X_test_rgb.shape"
   ]
  },
  {
   "cell_type": "markdown",
   "metadata": {},
   "source": [
    "# Now we need to fine tune VGG  for new data"
   ]
  },
  {
   "cell_type": "code",
   "execution_count": 11,
   "metadata": {
    "collapsed": false
   },
   "outputs": [
    {
     "name": "stderr",
     "output_type": "stream",
     "text": [
      "Using TensorFlow backend.\n"
     ]
    }
   ],
   "source": [
    "from keras.preprocessing import image\n",
    "from keras.applications import resnet50, inception_v3, vgg16\n",
    "from keras.models import Model\n",
    "from keras.layers import Dense, GlobalAveragePooling2D, Input\n",
    "from keras.optimizers import Adam\n",
    "import numpy as np"
   ]
  },
  {
   "cell_type": "markdown",
   "metadata": {},
   "source": [
    "** Setting up global values **"
   ]
  },
  {
   "cell_type": "code",
   "execution_count": 13,
   "metadata": {
    "collapsed": true
   },
   "outputs": [],
   "source": [
    "batch_size = 50\n",
    "num_classes = 2"
   ]
  },
  {
   "cell_type": "code",
   "execution_count": 14,
   "metadata": {
    "collapsed": true
   },
   "outputs": [],
   "source": [
    "#base_model = resnet50.ResNet50\n",
    "#base_model = inception_v3.InceptionV3\n",
    "base_model = vgg16.VGG16"
   ]
  },
  {
   "cell_type": "code",
   "execution_count": null,
   "metadata": {
    "collapsed": true
   },
   "outputs": [],
   "source": [
    "base_model = base_model(weights='imagenet', include_top=False)\n",
    "x = base_model.output\n",
    "x = "
   ]
  }
 ],
 "metadata": {
  "kernelspec": {
   "display_name": "Python 3",
   "language": "python",
   "name": "python3"
  },
  "language_info": {
   "codemirror_mode": {
    "name": "ipython",
    "version": 3
   },
   "file_extension": ".py",
   "mimetype": "text/x-python",
   "name": "python",
   "nbconvert_exporter": "python",
   "pygments_lexer": "ipython3",
   "version": "3.6.0"
  }
 },
 "nbformat": 4,
 "nbformat_minor": 2
}
