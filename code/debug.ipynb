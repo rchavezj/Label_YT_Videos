{
 "cells": [
  {
   "cell_type": "code",
   "execution_count": 1,
   "metadata": {
    "collapsed": false
   },
   "outputs": [],
   "source": [
    "import os\n",
    "import numpy as np # linear algebra\n",
    "import pandas as pd # data processing, CSV file I/O (e.g. pd.read_csv)\n",
    "import tensorflow as tf\n",
    "import seaborn as sns\n",
    "from IPython.display import YouTubeVideo\n",
    "import matplotlib.pyplot as plt\n",
    "import plotly.plotly as py"
   ]
  },
  {
   "cell_type": "code",
   "execution_count": 2,
   "metadata": {
    "collapsed": false
   },
   "outputs": [],
   "source": [
    "labels_df = pd.read_csv('../v2/label_names_2018.csv')"
   ]
  },
  {
   "cell_type": "code",
   "execution_count": 3,
   "metadata": {
    "collapsed": false,
    "scrolled": true
   },
   "outputs": [
    {
     "data": {
      "text/html": [
       "<div>\n",
       "<style scoped>\n",
       "    .dataframe tbody tr th:only-of-type {\n",
       "        vertical-align: middle;\n",
       "    }\n",
       "\n",
       "    .dataframe tbody tr th {\n",
       "        vertical-align: top;\n",
       "    }\n",
       "\n",
       "    .dataframe thead th {\n",
       "        text-align: right;\n",
       "    }\n",
       "</style>\n",
       "<table border=\"1\" class=\"dataframe\">\n",
       "  <thead>\n",
       "    <tr style=\"text-align: right;\">\n",
       "      <th></th>\n",
       "      <th>label_id</th>\n",
       "      <th>label_name</th>\n",
       "    </tr>\n",
       "  </thead>\n",
       "  <tbody>\n",
       "    <tr>\n",
       "      <th>0</th>\n",
       "      <td>0</td>\n",
       "      <td>Game</td>\n",
       "    </tr>\n",
       "    <tr>\n",
       "      <th>1</th>\n",
       "      <td>1</td>\n",
       "      <td>Vehicle</td>\n",
       "    </tr>\n",
       "    <tr>\n",
       "      <th>2</th>\n",
       "      <td>2</td>\n",
       "      <td>Video game</td>\n",
       "    </tr>\n",
       "    <tr>\n",
       "      <th>3</th>\n",
       "      <td>3</td>\n",
       "      <td>Concert</td>\n",
       "    </tr>\n",
       "    <tr>\n",
       "      <th>4</th>\n",
       "      <td>4</td>\n",
       "      <td>Car</td>\n",
       "    </tr>\n",
       "    <tr>\n",
       "      <th>5</th>\n",
       "      <td>5</td>\n",
       "      <td>Dance</td>\n",
       "    </tr>\n",
       "    <tr>\n",
       "      <th>6</th>\n",
       "      <td>6</td>\n",
       "      <td>Animation</td>\n",
       "    </tr>\n",
       "    <tr>\n",
       "      <th>7</th>\n",
       "      <td>7</td>\n",
       "      <td>Musician</td>\n",
       "    </tr>\n",
       "    <tr>\n",
       "      <th>8</th>\n",
       "      <td>8</td>\n",
       "      <td>Association football</td>\n",
       "    </tr>\n",
       "    <tr>\n",
       "      <th>9</th>\n",
       "      <td>9</td>\n",
       "      <td>Music video</td>\n",
       "    </tr>\n",
       "    <tr>\n",
       "      <th>10</th>\n",
       "      <td>10</td>\n",
       "      <td>Animal</td>\n",
       "    </tr>\n",
       "    <tr>\n",
       "      <th>11</th>\n",
       "      <td>11</td>\n",
       "      <td>Motorsport</td>\n",
       "    </tr>\n",
       "    <tr>\n",
       "      <th>12</th>\n",
       "      <td>12</td>\n",
       "      <td>Food</td>\n",
       "    </tr>\n",
       "    <tr>\n",
       "      <th>13</th>\n",
       "      <td>13</td>\n",
       "      <td>Musical ensemble</td>\n",
       "    </tr>\n",
       "    <tr>\n",
       "      <th>14</th>\n",
       "      <td>14</td>\n",
       "      <td>Guitar</td>\n",
       "    </tr>\n",
       "    <tr>\n",
       "      <th>15</th>\n",
       "      <td>15</td>\n",
       "      <td>Cartoon</td>\n",
       "    </tr>\n",
       "    <tr>\n",
       "      <th>16</th>\n",
       "      <td>16</td>\n",
       "      <td>Performance art</td>\n",
       "    </tr>\n",
       "    <tr>\n",
       "      <th>17</th>\n",
       "      <td>17</td>\n",
       "      <td>Racing</td>\n",
       "    </tr>\n",
       "    <tr>\n",
       "      <th>18</th>\n",
       "      <td>18</td>\n",
       "      <td>Outdoor recreation</td>\n",
       "    </tr>\n",
       "    <tr>\n",
       "      <th>19</th>\n",
       "      <td>19</td>\n",
       "      <td>PC game</td>\n",
       "    </tr>\n",
       "    <tr>\n",
       "      <th>20</th>\n",
       "      <td>20</td>\n",
       "      <td>Trailer (promotion)</td>\n",
       "    </tr>\n",
       "    <tr>\n",
       "      <th>21</th>\n",
       "      <td>21</td>\n",
       "      <td>Stadium</td>\n",
       "    </tr>\n",
       "    <tr>\n",
       "      <th>22</th>\n",
       "      <td>22</td>\n",
       "      <td>Nature</td>\n",
       "    </tr>\n",
       "    <tr>\n",
       "      <th>23</th>\n",
       "      <td>23</td>\n",
       "      <td>Mobile phone</td>\n",
       "    </tr>\n",
       "    <tr>\n",
       "      <th>24</th>\n",
       "      <td>24</td>\n",
       "      <td>String instrument</td>\n",
       "    </tr>\n",
       "    <tr>\n",
       "      <th>25</th>\n",
       "      <td>25</td>\n",
       "      <td>Toy</td>\n",
       "    </tr>\n",
       "    <tr>\n",
       "      <th>26</th>\n",
       "      <td>26</td>\n",
       "      <td>Cooking</td>\n",
       "    </tr>\n",
       "    <tr>\n",
       "      <th>27</th>\n",
       "      <td>27</td>\n",
       "      <td>Motorcycle</td>\n",
       "    </tr>\n",
       "    <tr>\n",
       "      <th>28</th>\n",
       "      <td>28</td>\n",
       "      <td>Fashion</td>\n",
       "    </tr>\n",
       "    <tr>\n",
       "      <th>29</th>\n",
       "      <td>29</td>\n",
       "      <td>Smartphone</td>\n",
       "    </tr>\n",
       "    <tr>\n",
       "      <th>...</th>\n",
       "      <td>...</td>\n",
       "      <td>...</td>\n",
       "    </tr>\n",
       "    <tr>\n",
       "      <th>3832</th>\n",
       "      <td>4493</td>\n",
       "      <td>Nissan X-Trail</td>\n",
       "    </tr>\n",
       "    <tr>\n",
       "      <th>3833</th>\n",
       "      <td>4494</td>\n",
       "      <td>Python (genus)</td>\n",
       "    </tr>\n",
       "    <tr>\n",
       "      <th>3834</th>\n",
       "      <td>4496</td>\n",
       "      <td>DS 3</td>\n",
       "    </tr>\n",
       "    <tr>\n",
       "      <th>3835</th>\n",
       "      <td>4506</td>\n",
       "      <td>Sonic and the Black Knight</td>\n",
       "    </tr>\n",
       "    <tr>\n",
       "      <th>3836</th>\n",
       "      <td>4508</td>\n",
       "      <td>Peugeot 207</td>\n",
       "    </tr>\n",
       "    <tr>\n",
       "      <th>3837</th>\n",
       "      <td>4512</td>\n",
       "      <td>Eldar (Warhammer 40,000)</td>\n",
       "    </tr>\n",
       "    <tr>\n",
       "      <th>3838</th>\n",
       "      <td>4513</td>\n",
       "      <td>Gothic 3</td>\n",
       "    </tr>\n",
       "    <tr>\n",
       "      <th>3839</th>\n",
       "      <td>4517</td>\n",
       "      <td>Toyota Land Cruiser Prado</td>\n",
       "    </tr>\n",
       "    <tr>\n",
       "      <th>3840</th>\n",
       "      <td>4520</td>\n",
       "      <td>The Order: 1886</td>\n",
       "    </tr>\n",
       "    <tr>\n",
       "      <th>3841</th>\n",
       "      <td>4522</td>\n",
       "      <td>Caster board</td>\n",
       "    </tr>\n",
       "    <tr>\n",
       "      <th>3842</th>\n",
       "      <td>4526</td>\n",
       "      <td>Command &amp; Conquer: Generals</td>\n",
       "    </tr>\n",
       "    <tr>\n",
       "      <th>3843</th>\n",
       "      <td>4531</td>\n",
       "      <td>FIFA Street (2012 video game)</td>\n",
       "    </tr>\n",
       "    <tr>\n",
       "      <th>3844</th>\n",
       "      <td>4547</td>\n",
       "      <td>Prince of Persia: The Two Thrones</td>\n",
       "    </tr>\n",
       "    <tr>\n",
       "      <th>3845</th>\n",
       "      <td>4551</td>\n",
       "      <td>Shredder (Teenage Mutant Ninja Turtles)</td>\n",
       "    </tr>\n",
       "    <tr>\n",
       "      <th>3846</th>\n",
       "      <td>4558</td>\n",
       "      <td>Spektrum RC</td>\n",
       "    </tr>\n",
       "    <tr>\n",
       "      <th>3847</th>\n",
       "      <td>4562</td>\n",
       "      <td>Bowser Jr.</td>\n",
       "    </tr>\n",
       "    <tr>\n",
       "      <th>3848</th>\n",
       "      <td>4564</td>\n",
       "      <td>American Bulldog</td>\n",
       "    </tr>\n",
       "    <tr>\n",
       "      <th>3849</th>\n",
       "      <td>4571</td>\n",
       "      <td>Leopard gecko</td>\n",
       "    </tr>\n",
       "    <tr>\n",
       "      <th>3850</th>\n",
       "      <td>4572</td>\n",
       "      <td>Leatherman</td>\n",
       "    </tr>\n",
       "    <tr>\n",
       "      <th>3851</th>\n",
       "      <td>4580</td>\n",
       "      <td>Classical ballet</td>\n",
       "    </tr>\n",
       "    <tr>\n",
       "      <th>3852</th>\n",
       "      <td>4588</td>\n",
       "      <td>Fakie</td>\n",
       "    </tr>\n",
       "    <tr>\n",
       "      <th>3853</th>\n",
       "      <td>4591</td>\n",
       "      <td>Texas Longhorns</td>\n",
       "    </tr>\n",
       "    <tr>\n",
       "      <th>3854</th>\n",
       "      <td>4605</td>\n",
       "      <td>Bansuri</td>\n",
       "    </tr>\n",
       "    <tr>\n",
       "      <th>3855</th>\n",
       "      <td>4631</td>\n",
       "      <td>Lamborghini Diablo</td>\n",
       "    </tr>\n",
       "    <tr>\n",
       "      <th>3856</th>\n",
       "      <td>4633</td>\n",
       "      <td>Jill Valentine</td>\n",
       "    </tr>\n",
       "    <tr>\n",
       "      <th>3857</th>\n",
       "      <td>4653</td>\n",
       "      <td>Audi Q5</td>\n",
       "    </tr>\n",
       "    <tr>\n",
       "      <th>3858</th>\n",
       "      <td>4672</td>\n",
       "      <td>Renault 5</td>\n",
       "    </tr>\n",
       "    <tr>\n",
       "      <th>3859</th>\n",
       "      <td>4673</td>\n",
       "      <td>Flugelhorn</td>\n",
       "    </tr>\n",
       "    <tr>\n",
       "      <th>3860</th>\n",
       "      <td>4681</td>\n",
       "      <td>Single track (mountain biking)</td>\n",
       "    </tr>\n",
       "    <tr>\n",
       "      <th>3861</th>\n",
       "      <td>4711</td>\n",
       "      <td>Aston Martin Vantage (2005)</td>\n",
       "    </tr>\n",
       "  </tbody>\n",
       "</table>\n",
       "<p>3862 rows × 2 columns</p>\n",
       "</div>"
      ],
      "text/plain": [
       "      label_id                               label_name\n",
       "0            0                                     Game\n",
       "1            1                                  Vehicle\n",
       "2            2                               Video game\n",
       "3            3                                  Concert\n",
       "4            4                                      Car\n",
       "5            5                                    Dance\n",
       "6            6                                Animation\n",
       "7            7                                 Musician\n",
       "8            8                     Association football\n",
       "9            9                              Music video\n",
       "10          10                                   Animal\n",
       "11          11                               Motorsport\n",
       "12          12                                     Food\n",
       "13          13                         Musical ensemble\n",
       "14          14                                   Guitar\n",
       "15          15                                  Cartoon\n",
       "16          16                          Performance art\n",
       "17          17                                   Racing\n",
       "18          18                       Outdoor recreation\n",
       "19          19                                  PC game\n",
       "20          20                      Trailer (promotion)\n",
       "21          21                                  Stadium\n",
       "22          22                                   Nature\n",
       "23          23                             Mobile phone\n",
       "24          24                        String instrument\n",
       "25          25                                      Toy\n",
       "26          26                                  Cooking\n",
       "27          27                               Motorcycle\n",
       "28          28                                  Fashion\n",
       "29          29                               Smartphone\n",
       "...        ...                                      ...\n",
       "3832      4493                           Nissan X-Trail\n",
       "3833      4494                           Python (genus)\n",
       "3834      4496                                     DS 3\n",
       "3835      4506               Sonic and the Black Knight\n",
       "3836      4508                              Peugeot 207\n",
       "3837      4512                 Eldar (Warhammer 40,000)\n",
       "3838      4513                                 Gothic 3\n",
       "3839      4517                Toyota Land Cruiser Prado\n",
       "3840      4520                          The Order: 1886\n",
       "3841      4522                             Caster board\n",
       "3842      4526              Command & Conquer: Generals\n",
       "3843      4531            FIFA Street (2012 video game)\n",
       "3844      4547        Prince of Persia: The Two Thrones\n",
       "3845      4551  Shredder (Teenage Mutant Ninja Turtles)\n",
       "3846      4558                              Spektrum RC\n",
       "3847      4562                               Bowser Jr.\n",
       "3848      4564                         American Bulldog\n",
       "3849      4571                            Leopard gecko\n",
       "3850      4572                               Leatherman\n",
       "3851      4580                         Classical ballet\n",
       "3852      4588                                    Fakie\n",
       "3853      4591                          Texas Longhorns\n",
       "3854      4605                                  Bansuri\n",
       "3855      4631                       Lamborghini Diablo\n",
       "3856      4633                           Jill Valentine\n",
       "3857      4653                                  Audi Q5\n",
       "3858      4672                                Renault 5\n",
       "3859      4673                               Flugelhorn\n",
       "3860      4681           Single track (mountain biking)\n",
       "3861      4711              Aston Martin Vantage (2005)\n",
       "\n",
       "[3862 rows x 2 columns]"
      ]
     },
     "execution_count": 3,
     "metadata": {},
     "output_type": "execute_result"
    }
   ],
   "source": [
    "labels_df"
   ]
  },
  {
   "cell_type": "markdown",
   "metadata": {},
   "source": [
    "# Videos\n",
    "** **"
   ]
  },
  {
   "cell_type": "code",
   "execution_count": 4,
   "metadata": {
    "collapsed": false
   },
   "outputs": [],
   "source": [
    "batch_itor = 0\n",
    "video_files = []\n",
    "for v in os.listdir(\"../v2/video\"):\n",
    "    if (batch_itor == 5):\n",
    "        break\n",
    "    video_files.append(\"../v2/video/{}\".format(v))\n",
    "    batch_itor += 1"
   ]
  },
  {
   "cell_type": "code",
   "execution_count": 5,
   "metadata": {
    "collapsed": false
   },
   "outputs": [
    {
     "data": {
      "text/plain": [
       "['../v2/video/train2777.tfrecord',\n",
       " '../v2/video/train2981.tfrecord',\n",
       " '../v2/video/train2511.tfrecord',\n",
       " '../v2/video/train1829.tfrecord',\n",
       " '../v2/video/train3171.tfrecord']"
      ]
     },
     "execution_count": 5,
     "metadata": {},
     "output_type": "execute_result"
    }
   ],
   "source": [
    "video_files"
   ]
  },
  {
   "cell_type": "code",
   "execution_count": 6,
   "metadata": {
    "collapsed": false
   },
   "outputs": [],
   "source": [
    "# distribution of labels\n",
    "# video_files = [\"../v2/video/{}\".format(i) for i in os.listdir(\"../v2/video\")]\n",
    "vid_ids = []\n",
    "labels = []\n",
    "mean_rgb = []\n",
    "mean_audio = []\n",
    "for file in video_files:\n",
    "    for example in tf.python_io.tf_record_iterator(file):\n",
    "        tf_example = tf.train.Example.FromString(example)\n",
    "        vid_ids.append(tf_example.features.feature['id'].bytes_list.value[0].decode(encoding='UTF-8'))\n",
    "        labels.append(tf_example.features.feature['labels'].int64_list.value)\n",
    "        mean_rgb.append(tf_example.features.feature['mean_rgb'].float_list.value)\n",
    "        mean_audio.append(tf_example.features.feature['mean_audio'].float_list.value)"
   ]
  },
  {
   "cell_type": "code",
   "execution_count": 7,
   "metadata": {
    "collapsed": false,
    "scrolled": true
   },
   "outputs": [
    {
     "name": "stdout",
     "output_type": "stream",
     "text": [
      "Number of videos in Sample data set: 5102\n",
      "Picking a youtube video id: gqSX\n",
      "List of label ids for youtube video id gqSX, are - [5, 16]\n",
      "First 20 rgb feature of a youtube video ( gqSX ): are - [-0.3684130012989044, -0.41216298937797546, -0.9992953538894653, 0.5857536792755127, 1.0417585372924805, -0.5018688440322876, -0.41743260622024536, -0.9300551414489746, -0.05873161926865578, 1.1277879476547241, 0.5348958373069763, 0.2848958373069763, 0.5091605186462402, 0.39555761218070984, 0.07472426444292068, -0.22245711088180542, 0.7113664150238037, 1.1254595518112183, -0.9687806367874146, -0.025153186172246933]\n"
     ]
    }
   ],
   "source": [
    "print('Number of videos in Sample data set: %s' % str(len(vid_ids)))\n",
    "print('Picking a youtube video id: %s' % vid_ids[13])\n",
    "print('List of label ids for youtube video id %s, are - %s' % (vid_ids[13], str(labels[13])))\n",
    "print('First 20 rgb feature of a youtube video (',vid_ids[13],'): are - %s' % str(mean_rgb[13][:20]))"
   ]
  },
  {
   "cell_type": "code",
   "execution_count": 8,
   "metadata": {
    "collapsed": false
   },
   "outputs": [
    {
     "name": "stdout",
     "output_type": "stream",
     "text": [
      "<class 'list'>\n",
      "5102\n",
      "1024\n"
     ]
    }
   ],
   "source": [
    "from numpy import array\n",
    "print(type(mean_rgb))\n",
    "print(len(mean_rgb))\n",
    "print(len(mean_rgb[0]))\n",
    "mean_rgb = array(mean_rgb)"
   ]
  },
  {
   "cell_type": "code",
   "execution_count": 9,
   "metadata": {
    "collapsed": false
   },
   "outputs": [
    {
     "name": "stdout",
     "output_type": "stream",
     "text": [
      "<class 'numpy.ndarray'>\n",
      "5102\n",
      "1024\n",
      "(5102, 1024)\n",
      "[[ 1.10926175 -0.4262881  -0.18954471 ...  0.33313221  0.22426604\n",
      "  -0.50403744]\n",
      " [ 0.80123878 -0.20395221  1.0860399  ...  0.30870789  0.1857565\n",
      "   0.72906375]\n",
      " [ 0.20600891 -0.29462814 -0.37080917 ... -0.15100275 -1.31648636\n",
      "  -0.25557792]\n",
      " ...\n",
      " [-0.01111561 -0.0738607  -0.05127247 ...  0.28268832 -0.02350776\n",
      "  -0.61519402]\n",
      " [-0.28290644 -0.10674959 -0.88306332 ...  0.45351183  0.06004779\n",
      "   0.78344649]\n",
      " [ 0.47374293  0.65771109 -0.56491685 ...  0.26134717  0.03693127\n",
      "  -0.27102455]]\n"
     ]
    }
   ],
   "source": [
    "print(type(mean_rgb))\n",
    "print(len(mean_rgb))\n",
    "print(len(mean_rgb[0]))\n",
    "print(mean_rgb.shape)\n",
    "print(mean_rgb)"
   ]
  },
  {
   "cell_type": "code",
   "execution_count": 10,
   "metadata": {
    "collapsed": false
   },
   "outputs": [
    {
     "name": "stdout",
     "output_type": "stream",
     "text": [
      "<class 'list'>\n",
      "5102\n",
      "128\n"
     ]
    }
   ],
   "source": [
    "print(type(mean_audio))\n",
    "print(len(mean_audio))\n",
    "print(len(mean_audio[0]))\n",
    "mean_audio = array(mean_audio)"
   ]
  },
  {
   "cell_type": "code",
   "execution_count": 11,
   "metadata": {
    "collapsed": false
   },
   "outputs": [
    {
     "data": {
      "text/plain": [
       "(5102, 128)"
      ]
     },
     "execution_count": 11,
     "metadata": {},
     "output_type": "execute_result"
    }
   ],
   "source": [
    "mean_audio.shape"
   ]
  },
  {
   "cell_type": "markdown",
   "metadata": {},
   "source": [
    "# Frame\n",
    "** **"
   ]
  },
  {
   "cell_type": "code",
   "execution_count": 12,
   "metadata": {
    "collapsed": false
   },
   "outputs": [],
   "source": [
    "frame_files = []\n",
    "\n",
    "for i in os.listdir(\"../v2/frame\"):\n",
    "    if (batch_itor == 5):\n",
    "        break\n",
    "    frame_files.append(\"../v2/frame/{}\".format(i))\n",
    "    batch_itor += 1"
   ]
  },
  {
   "cell_type": "code",
   "execution_count": 13,
   "metadata": {
    "collapsed": false
   },
   "outputs": [
    {
     "data": {
      "text/plain": [
       "[]"
      ]
     },
     "execution_count": 13,
     "metadata": {},
     "output_type": "execute_result"
    }
   ],
   "source": [
    "frame_files"
   ]
  },
  {
   "cell_type": "code",
   "execution_count": 14,
   "metadata": {
    "collapsed": false
   },
   "outputs": [],
   "source": [
    "feat_rgb = []\n",
    "feat_audio = []\n",
    "for file in frame_files:\n",
    "    for example in tf.python_io.tf_record_iterator(file):        \n",
    "        tf_seq_example = tf.train.SequenceExample.FromString(example)\n",
    "        n_frames = len(tf_seq_example.feature_lists.feature_list['audio'].feature)\n",
    "        sess = tf.InteractiveSession()\n",
    "        rgb_frame = []\n",
    "        audio_frame = []\n",
    "        # iterate through frames\n",
    "        for i in range(120):\n",
    "            rgb_frame.append(tf.cast(tf.decode_raw(\n",
    "                    tf_seq_example.feature_lists.feature_list['rgb'].feature[i].bytes_list.value[0],tf.uint8)\n",
    "                           ,tf.float32).eval())\n",
    "            audio_frame.append(tf.cast(tf.decode_raw(\n",
    "                    tf_seq_example.feature_lists.feature_list['audio'].feature[i].bytes_list.value[0],tf.uint8)\n",
    "                           ,tf.float32).eval())\n",
    "\n",
    "\n",
    "        sess.close()\n",
    "        feat_rgb.append(rgb_frame)\n",
    "        feat_audio.append(audio_frame)\n",
    "        break"
   ]
  },
  {
   "cell_type": "code",
   "execution_count": 15,
   "metadata": {
    "collapsed": false
   },
   "outputs": [
    {
     "ename": "NameError",
     "evalue": "name 'rgb_frame' is not defined",
     "output_type": "error",
     "traceback": [
      "\u001b[0;31m---------------------------------------------------------------------------\u001b[0m",
      "\u001b[0;31mNameError\u001b[0m                                 Traceback (most recent call last)",
      "\u001b[0;32m<ipython-input-15-b7580ef744e7>\u001b[0m in \u001b[0;36m<module>\u001b[0;34m()\u001b[0m\n\u001b[0;32m----> 1\u001b[0;31m \u001b[0mprint\u001b[0m\u001b[0;34m(\u001b[0m\u001b[0mlen\u001b[0m\u001b[0;34m(\u001b[0m\u001b[0mrgb_frame\u001b[0m\u001b[0;34m)\u001b[0m\u001b[0;34m)\u001b[0m \u001b[0;31m#137x1024\u001b[0m\u001b[0;34m\u001b[0m\u001b[0m\n\u001b[0m\u001b[1;32m      2\u001b[0m \u001b[0mprint\u001b[0m\u001b[0;34m(\u001b[0m\u001b[0mlen\u001b[0m\u001b[0;34m(\u001b[0m\u001b[0mrgb_frame\u001b[0m\u001b[0;34m[\u001b[0m\u001b[0;36m0\u001b[0m\u001b[0;34m]\u001b[0m\u001b[0;34m)\u001b[0m\u001b[0;34m)\u001b[0m \u001b[0;31m#137x1024\u001b[0m\u001b[0;34m\u001b[0m\u001b[0m\n\u001b[1;32m      3\u001b[0m \u001b[0mprint\u001b[0m\u001b[0;34m(\u001b[0m\u001b[0mlen\u001b[0m\u001b[0;34m(\u001b[0m\u001b[0maudio_frame\u001b[0m\u001b[0;34m[\u001b[0m\u001b[0;36m0\u001b[0m\u001b[0;34m]\u001b[0m\u001b[0;34m)\u001b[0m\u001b[0;34m)\u001b[0m \u001b[0;31m#137x128\u001b[0m\u001b[0;34m\u001b[0m\u001b[0m\n",
      "\u001b[0;31mNameError\u001b[0m: name 'rgb_frame' is not defined"
     ]
    }
   ],
   "source": [
    "print(len(rgb_frame)) #137x1024\n",
    "print(len(rgb_frame[0])) #137x1024\n",
    "print(len(audio_frame[0])) #137x128"
   ]
  },
  {
   "cell_type": "code",
   "execution_count": null,
   "metadata": {
    "collapsed": false
   },
   "outputs": [],
   "source": [
    "print(\"No. of videos %d\" % len(feat_rgb))\n",
    "print('The first video has %d frames' %len(feat_rgb[1]))\n",
    "print('The first video has %d frames' %len(feat_rgb[0][0]))\n",
    "# print('The first video has %d frames' %len(feat_rgb[0][0][0]))\n",
    "print(\"Max frame length is: %d\" % max([len(x) for x in feat_rgb]))\n",
    "print(feat_rgb[0][0][0])"
   ]
  },
  {
   "cell_type": "code",
   "execution_count": null,
   "metadata": {
    "collapsed": false,
    "scrolled": true
   },
   "outputs": [],
   "source": [
    "print(feat_rgb[0][0], \"\\n\")\n",
    "print(feat_rgb[0], \"\\n\")"
   ]
  },
  {
   "cell_type": "markdown",
   "metadata": {},
   "source": [
    "# Cleaning the Data\n",
    "** **"
   ]
  },
  {
   "cell_type": "code",
   "execution_count": null,
   "metadata": {
    "collapsed": true
   },
   "outputs": [],
   "source": [
    "max_frame_rgb_sequence_length = 120\n",
    "frame_rgb_embedding_size = 1024\n",
    "\n",
    "max_frame_audio_sequence_length = 120\n",
    "frame_audio_embedding_size = 128\n",
    "\n",
    "number_dense_units = 1000\n",
    "number_lstm_units = 100\n",
    "rate_drop_lstm = 0.2\n",
    "rate_drop_dense = 0.2\n",
    "activation_function='relu'\n",
    "validation_split_ratio = 0.2\n",
    "label_feature_size = 10"
   ]
  },
  {
   "cell_type": "code",
   "execution_count": null,
   "metadata": {
    "collapsed": true
   },
   "outputs": [],
   "source": [
    "def create_train_dev_dataset(video_rgb, video_audio, frame_rgb, frame_audio, labels):\n",
    "    \"\"\"\n",
    "    Method to created training and validation data\n",
    "    \"\"\"\n",
    "    shuffle_indices = np.random.permutation(np.arange(len(labels)))\n",
    "    video_rgb_shuffled = video_rgb[shuffle_indices]\n",
    "    video_audio_shuffled = video_audio[shuffle_indices]\n",
    "    frame_rgb_shuffled = frame_rgb[shuffle_indices]\n",
    "    frame_audio_shuffled = frame_audio[shuffle_indices]\n",
    "    labels_shuffled = labels[shuffle_indices]\n",
    "\n",
    "    dev_idx = max(1, int(len(labels_shuffled) * validation_split_ratio))\n",
    "\n",
    "    del video_rgb\n",
    "    del video_audio\n",
    "    del frame_rgb\n",
    "    del frame_audio\n",
    "    gc.collect()\n",
    "\n",
    "    train_video_rgb, val_video_rgb = video_rgb_shuffled[:-dev_idx], video_rgb_shuffled[-dev_idx:]\n",
    "    train_video_audio, val_video_audio = video_audio_shuffled[:-dev_idx], video_audio_shuffled[-dev_idx:]\n",
    "    \n",
    "    train_frame_rgb, val_frame_rgb = frame_rgb_shuffled[:-dev_idx], frame_rgb_shuffled[-dev_idx:]\n",
    "    train_frame_audio, val_frame_audio = frame_audio_shuffled[:-dev_idx], frame_audio_shuffled[-dev_idx:]\n",
    "    \n",
    "    train_labels, val_labels = labels_shuffled[:-dev_idx], labels_shuffled[-dev_idx:]\n",
    "    \n",
    "    del video_rgb_shuffled, video_audio_shuffled, frame_rgb_shuffled, frame_audio_shuffled, labels_shuffled\n",
    "    gc.collect()\n",
    "    \n",
    "    return (train_video_rgb, train_video_audio, train_frame_rgb, train_frame_audio, train_labels, val_video_rgb, val_video_audio, \n",
    "            val_frame_rgb, val_frame_audio, val_labels)"
   ]
  },
  {
   "cell_type": "code",
   "execution_count": null,
   "metadata": {
    "collapsed": false
   },
   "outputs": [],
   "source": [
    "import numpy as np\n",
    "import random\n",
    "\n",
    "sample_length = 5\n",
    "\n",
    "# video_rgb = np.random.rand(sample_length, 1024)\n",
    "# video_audio = np.random.rand(sample_length, 128)\n",
    "\n",
    "# frame_rgb = np.random.rand(sample_length, 120, 1024)\n",
    "# frame_audio = np.random.rand(sample_length, 120, 128)\n",
    "\n",
    "# Here I have considered i have only 10 labels\n",
    "labels = np.zeros([sample_length, 10])\n",
    "for i in range(len(labels)):\n",
    "    j = random.randint(0,9)\n",
    "    labels[i][j] = 1 "
   ]
  },
  {
   "cell_type": "code",
   "execution_count": null,
   "metadata": {
    "collapsed": true
   },
   "outputs": [],
   "source": [
    "import operator\n",
    "import time \n",
    "import gc\n",
    "import os"
   ]
  },
  {
   "cell_type": "code",
   "execution_count": null,
   "metadata": {
    "collapsed": false
   },
   "outputs": [],
   "source": [
    "# print(video_rgb.shape, \"\\n\")\n",
    "# print(video_audio.shape, \"\\n\")\n",
    "# print(frame_rgb.shape, \"\\n\")\n",
    "# print(frame_audio.shape, \"\\n\")\n",
    "print(labels.shape)"
   ]
  },
  {
   "cell_type": "code",
   "execution_count": null,
   "metadata": {
    "collapsed": false
   },
   "outputs": [],
   "source": [
    "print(type(feat_rgb))\n",
    "print(feat_rgb)"
   ]
  },
  {
   "cell_type": "code",
   "execution_count": null,
   "metadata": {
    "collapsed": false
   },
   "outputs": [],
   "source": [
    "from numpy  import array\n",
    "feat_rgb = array(feat_rgb)\n",
    "feat_audio = array(feat_audio)\n",
    "feat_rgb = array(feat_rgb)"
   ]
  },
  {
   "cell_type": "code",
   "execution_count": null,
   "metadata": {
    "collapsed": false
   },
   "outputs": [],
   "source": [
    "print(feat_rgb.shape)\n",
    "print(type(feat_rgb.shape))\n",
    "print(type(feat_rgb))\n",
    "print(feat_rgb)"
   ]
  },
  {
   "cell_type": "code",
   "execution_count": null,
   "metadata": {
    "collapsed": false
   },
   "outputs": [],
   "source": [
    "# print(frame_rgb.shape)\n",
    "# print(type(frame_rgb.shape))\n",
    "# print(type(frame_rgb))\n",
    "# print(frame_rgb)"
   ]
  },
  {
   "cell_type": "code",
   "execution_count": null,
   "metadata": {
    "collapsed": false
   },
   "outputs": [],
   "source": [
    "# print(type(video_rgb))"
   ]
  },
  {
   "cell_type": "code",
   "execution_count": null,
   "metadata": {
    "collapsed": false
   },
   "outputs": [],
   "source": [
    "train_video_rgb, train_video_audio, train_frame_rgb, train_frame_audio, train_labels, val_video_rgb, val_video_audio, val_frame_rgb, val_frame_audio, val_labels = create_train_dev_dataset(mean_rgb, mean_audio, feat_rgb, feat_audio, labels) "
   ]
  },
  {
   "cell_type": "code",
   "execution_count": null,
   "metadata": {
    "collapsed": false
   },
   "outputs": [],
   "source": [
    "print(train_video_rgb.shape, \"\\n\")\n",
    "print(train_video_audio.shape, \"\\n\")\n",
    "print(train_frame_rgb.shape, \"\\n\")\n",
    "print(train_frame_audio.shape, \"\\n\")\n",
    "print(train_labels.shape, \"\\n\")\n",
    "print(val_video_rgb.shape, \"\\n\")\n",
    "print(val_video_audio.shape, \"\\n\")\n",
    "print(val_frame_rgb.shape, \"\\n\")\n",
    "print(val_frame_audio.shape, \"\\n\")\n",
    "print(val_labels.shape, \"\\n\")"
   ]
  },
  {
   "cell_type": "code",
   "execution_count": null,
   "metadata": {
    "collapsed": false
   },
   "outputs": [],
   "source": [
    "# keras imports\n",
    "from keras.layers import Dense, Input, LSTM, Dropout, Bidirectional\n",
    "from keras.callbacks import EarlyStopping, ModelCheckpoint\n",
    "from keras.layers.normalization import BatchNormalization\n",
    "from keras.layers.embeddings import Embedding\n",
    "from keras.layers.merge import concatenate\n",
    "from keras.callbacks import TensorBoard\n",
    "from keras.models import load_model\n",
    "from keras.models import Model"
   ]
  },
  {
   "cell_type": "code",
   "execution_count": null,
   "metadata": {
    "collapsed": true
   },
   "outputs": [],
   "source": [
    "def create_model(video_rgb, video_audio, frame_rgb, frame_audio, labels):\n",
    "    \"\"\"Create and store best model at `checkpoint` path ustilising bi-lstm layer for frame level data of videos\"\"\"\n",
    "    train_video_rgb, train_video_audio, train_frame_rgb, train_frame_audio, train_labels, val_video_rgb, val_video_audio, val_frame_rgb, val_frame_audio, val_labels = create_train_dev_dataset(video_rgb, video_audio, frame_rgb, frame_audio, labels) \n",
    "    \n",
    "    # Creating 2 bi-lstm layer, one for rgb and other for audio level data\n",
    "    lstm_layer_1 = Bidirectional(LSTM(number_lstm_units, dropout=rate_drop_lstm, recurrent_dropout=rate_drop_lstm))\n",
    "    lstm_layer_2 = Bidirectional(LSTM(number_lstm_units, dropout=rate_drop_lstm, recurrent_dropout=rate_drop_lstm))\n",
    "    \n",
    "    # creating input layer for frame-level data\n",
    "    frame_rgb_sequence_input = Input(shape=(max_frame_rgb_sequence_length, frame_rgb_embedding_size), dtype='float32')\n",
    "    frame_audio_sequence_input = Input(shape=(max_frame_audio_sequence_length, frame_audio_embedding_size), dtype='float32')\n",
    "    \n",
    "    frame_x1 = lstm_layer_1(frame_rgb_sequence_input)\n",
    "    frame_x2 = lstm_layer_2(frame_audio_sequence_input)\n",
    "    \n",
    "    # creating input layer for video-level data\n",
    "    video_rgb_input = Input(shape=(video_rgb.shape[1],))\n",
    "    video_rgb_dense = Dense(int(number_dense_units/2), activation=activation_function)(video_rgb_input)\n",
    "    \n",
    "    video_audio_input = Input(shape=(video_audio.shape[1],))\n",
    "    video_audio_dense = Dense(int(number_dense_units/2), activation=activation_function)(video_audio_input)\n",
    "    \n",
    "    # merging frame-level bi-lstm output and later passed to dense layer by applying batch-normalisation and dropout\n",
    "    merged_frame = concatenate([frame_x1, frame_x2])\n",
    "    merged_frame = BatchNormalization()(merged_frame)\n",
    "    merged_frame = Dropout(rate_drop_dense)(merged_frame)\n",
    "    merged_frame_dense = Dense(int(number_dense_units/2), activation=activation_function)(merged_frame)\n",
    "    \n",
    "    # merging video-level dense layer output\n",
    "    merged_video = concatenate([video_rgb_dense, video_audio_dense])\n",
    "    merged_video = BatchNormalization()(merged_video)\n",
    "    merged_video = Dropout(rate_drop_dense)(merged_video)\n",
    "    merged_video_dense = Dense(int(number_dense_units/2), activation=activation_function)(merged_video)\n",
    "    \n",
    "    # merging frame-level and video-level dense layer output\n",
    "    merged = concatenate([merged_frame_dense, merged_video_dense])\n",
    "    merged = BatchNormalization()(merged)\n",
    "    merged = Dropout(rate_drop_dense)(merged)\n",
    "     \n",
    "    merged = Dense(number_dense_units, activation=activation_function)(merged)\n",
    "    merged = BatchNormalization()(merged)\n",
    "    merged = Dropout(rate_drop_dense)(merged)\n",
    "    preds = Dense(label_feature_size, activation='sigmoid')(merged)\n",
    "    \n",
    "    model = Model(inputs=[frame_rgb_sequence_input, frame_audio_sequence_input, video_rgb_input, video_audio_input], outputs=preds)\n",
    "    print(model.summary())\n",
    "    model.compile(loss='binary_crossentropy', optimizer='nadam', metrics=['acc'])\n",
    "    early_stopping = EarlyStopping(monitor='val_loss', patience=3)\n",
    "    \n",
    "    STAMP = 'lstm_%d_%d_%.2f_%.2f' % (number_lstm_units, number_dense_units, rate_drop_lstm, rate_drop_dense)\n",
    "\n",
    "    checkpoint_dir = 'checkpoints/' + str(int(time.time())) + '/'\n",
    "\n",
    "    if not os.path.exists(checkpoint_dir):\n",
    "        os.makedirs(checkpoint_dir)\n",
    "\n",
    "    bst_model_path = checkpoint_dir + STAMP + '.h5'\n",
    "    model_checkpoint = ModelCheckpoint(bst_model_path, save_best_only=True, save_weights_only=False)\n",
    "    tensorboard = TensorBoard(log_dir=checkpoint_dir + \"logs/{}\".format(time.time()))\n",
    "    \n",
    "    model.fit([train_frame_rgb, train_frame_audio, train_video_rgb, train_video_audio], train_labels,\n",
    "              validation_data=([val_frame_rgb, val_frame_audio, val_video_rgb, val_video_audio], val_labels),\n",
    "              epochs=40, batch_size=2, shuffle=True, callbacks=[early_stopping, model_checkpoint, tensorboard])    \n",
    "    return model\n"
   ]
  },
  {
   "cell_type": "code",
   "execution_count": null,
   "metadata": {
    "collapsed": false
   },
   "outputs": [],
   "source": [
    "model = create_model(mean_rgb, mean_audio, feat_rgb, feat_audio, labels)"
   ]
  },
  {
   "cell_type": "code",
   "execution_count": null,
   "metadata": {
    "collapsed": false
   },
   "outputs": [],
   "source": [
    "test_video_rgb = np.random.rand(1, 1024)\n",
    "test_video_audio = np.random.rand(1, 128)\n",
    "\n",
    "test_frame_rgb = np.random.rand(1, 120, 1024)\n",
    "test_frame_audio = np.random.rand(1, 120, 128)\n",
    "\n",
    "preds = list(model.predict([test_frame_rgb, test_frame_audio, test_video_rgb, test_video_audio], verbose=1).ravel())\n",
    "index, value = max(enumerate(preds), key=operator.itemgetter(1))\n",
    "print(\"Predicted Label - %s with probability - %s\" % (str(index), str(value)))"
   ]
  },
  {
   "cell_type": "code",
   "execution_count": null,
   "metadata": {
    "collapsed": true
   },
   "outputs": [],
   "source": []
  },
  {
   "cell_type": "code",
   "execution_count": null,
   "metadata": {
    "collapsed": true
   },
   "outputs": [],
   "source": []
  }
 ],
 "metadata": {
  "kernelspec": {
   "display_name": "Python 3",
   "language": "python",
   "name": "python3"
  },
  "language_info": {
   "codemirror_mode": {
    "name": "ipython",
    "version": 3
   },
   "file_extension": ".py",
   "mimetype": "text/x-python",
   "name": "python",
   "nbconvert_exporter": "python",
   "pygments_lexer": "ipython3",
   "version": "3.6.5"
  }
 },
 "nbformat": 4,
 "nbformat_minor": 2
}
