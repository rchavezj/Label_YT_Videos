{
 "cells": [
  {
   "cell_type": "code",
   "execution_count": 1,
   "metadata": {
    "collapsed": false
   },
   "outputs": [
    {
     "name": "stdout",
     "output_type": "stream",
     "text": [
      "frame\n",
      "video\n",
      "\n"
     ]
    }
   ],
   "source": [
    "# This Python 3 environment comes with many helpful analytics libraries installed\n",
    "# It is defined by the kaggle/python docker image: https://github.com/kaggle/docker-python\n",
    "# For example, here's several helpful packages to load in \n",
    "import os\n",
    "import numpy as np # linear algebra\n",
    "import pandas as pd # data processing, CSV file I/O (e.g. pd.read_csv)\n",
    "from sklearn.model_selection import train_test_split\n",
    "os.environ['TF_CPP_MIN_LOG_LEVEL']='2'\n",
    "# Input data files are available in the \"../input/\" directory.\n",
    "# For example, running this (by clicking run or pressing Shift+Enter) will list the files in the input directory\n",
    "import subprocess\n",
    "from subprocess import check_output\n",
    "try:\n",
    "    print(check_output([\"ls\", \"../v2\"]).decode(\"utf8\"))\n",
    "except subprocess.CalledProcessError as e:\n",
    "    raise RuntimeError(\"command '{}' return with error (code {}): {}\".format(e.cmd, e.returncode, e.output))\n",
    "# Any results you write to the current directory are saved as output.\n"
   ]
  },
  {
   "cell_type": "code",
   "execution_count": 2,
   "metadata": {
    "collapsed": true
   },
   "outputs": [],
   "source": [
    "import tensorflow as tf"
   ]
  },
  {
   "cell_type": "code",
   "execution_count": 3,
   "metadata": {
    "collapsed": true
   },
   "outputs": [],
   "source": [
    "# now, let's read the frame-level data\n",
    "# due to execution time, we're only going to read the first video\n",
    "video_files = os.listdir(\"../v2/video/\")\n",
    "\n",
    "# Global variables\n",
    "num_labels = 4716"
   ]
  },
  {
   "cell_type": "code",
   "execution_count": 4,
   "metadata": {
    "collapsed": true
   },
   "outputs": [],
   "source": [
    "def createTargetVec(labels):\n",
    "    out = np.zeros((1, num_labels))\n",
    "    for label in labels:\n",
    "        out[0,label] = 1\n",
    "    return out"
   ]
  },
  {
   "cell_type": "code",
   "execution_count": 5,
   "metadata": {
    "collapsed": true
   },
   "outputs": [],
   "source": [
    "def get_dataset(frames, samples=32, k=0):\n",
    "    rgb_input = np.empty((samples, 100, 1024))\n",
    "    audio_input = np.empty((samples, 100, 128))\n",
    "    label_output = np.empty((samples, num_labels))\n",
    "    sess = tf.InteractiveSession()\n",
    "    for example in tf.python_io.tf_record_iterator(frames):        \n",
    "        tf_seq_example = tf.train.SequenceExample.FromString(example)\n",
    "        labels = tf_seq_example.context.feature['labels'].int64_list.value\n",
    "        rgb_frame = np.zeros((100, 1024))\n",
    "        audio_frame = np.zeros((100, 128))\n",
    "        for i in range(100):\n",
    "            rgb_frame[i] = tf.cast(tf.decode_raw(\n",
    "                   tf_seq_example.feature_lists.feature_list['rgb'].feature[i].bytes_list.value[0],tf.uint8)\n",
    "                          ,tf.float32).eval()\n",
    "            audio_frame[i] = tf.cast(tf.decode_raw(\n",
    "                    tf_seq_example.feature_lists.feature_list['audio'].feature[i].bytes_list.value[0],tf.uint8)\n",
    "                           ,tf.float32).eval()\n",
    "#         print(\"rgb_frame: \", rgb_frame)\n",
    "        rgb_input[k] = rgb_frame\n",
    "#         print(\"rgb_input: \", rgb_input)\n",
    "        audio_input[k] = audio_frame\n",
    "        label_output[k] = createTargetVec(labels[:])\n",
    "        k += 1\n",
    "        progress = (k / samples) * 100\n",
    "        if int(progress) % 10 == 0:\n",
    "            print(\"Progress\", progress, \"%\")\n",
    "        if k >= samples:\n",
    "            break\n",
    "    sess.close()\n",
    "    return audio_input, rgb_input, label_output"
   ]
  },
  {
   "cell_type": "code",
   "execution_count": 6,
   "metadata": {
    "collapsed": true
   },
   "outputs": [],
   "source": [
    "# video_lvl_record = \"../v2/video/train-1.tfrecord\"\n",
    "# frame_lvl_record = \"../v2/frame/test30.tfrecord\""
   ]
  },
  {
   "cell_type": "code",
   "execution_count": 7,
   "metadata": {
    "collapsed": false
   },
   "outputs": [],
   "source": [
    "# audio_input, rgb_input, label_output = get_dataset(frame_lvl_record)\n",
    "\n",
    "# X_train_rgb, X_test_rgb, _, _ = train_test_split(rgb_input, label_output, test_size=0.2, random_state=42)\n",
    "# X_train_audio, X_test_audio, y_train, y_test = train_test_split(audio_input, label_output, test_size=0.2, random_state=42)"
   ]
  },
  {
   "cell_type": "markdown",
   "metadata": {
    "collapsed": true
   },
   "source": [
    "## Now were ready to create our model\n",
    "****\n",
    "** Since we're given sequential data, most likely I'll use an LSTM**"
   ]
  },
  {
   "cell_type": "code",
   "execution_count": 2,
   "metadata": {
    "collapsed": false
   },
   "outputs": [
    {
     "name": "stderr",
     "output_type": "stream",
     "text": [
      "Using TensorFlow backend.\n"
     ]
    }
   ],
   "source": [
    "import keras\n",
    "from keras.utils import plot_model\n",
    "from keras.models import Sequential, Model\n",
    "from keras.layers.merge import dot, concatenate\n",
    "from keras.layers.recurrent import LSTM\n",
    "from keras.layers.normalization import BatchNormalization\n",
    "from keras.layers.advanced_activations import LeakyReLU, PReLU\n",
    "from keras.layers import Input, Dense, Dropout, Bidirectional, Add, GlobalMaxPooling1D"
   ]
  },
  {
   "cell_type": "markdown",
   "metadata": {},
   "source": [
    "### Frame Model\n",
    "*** ***"
   ]
  },
  {
   "cell_type": "code",
   "execution_count": 10,
   "metadata": {
    "collapsed": false
   },
   "outputs": [],
   "source": [
    "x1 = Input(shape=(100,128),name='audio')\n",
    "x2 = Input(shape=(100,1024),name='rgb_video')"
   ]
  },
  {
   "cell_type": "code",
   "execution_count": 11,
   "metadata": {
    "collapsed": false
   },
   "outputs": [],
   "source": [
    "fc_1_x1 = Dense(512, activation='tanh', name='fc_1_x1')(x1) \n",
    "fc_1_x2 = Dense(512, activation='tanh', name='fc_1_x2')(x2) "
   ]
  },
  {
   "cell_type": "code",
   "execution_count": 12,
   "metadata": {
    "collapsed": false
   },
   "outputs": [],
   "source": [
    "# LSTM\n",
    "lstm_1_x1 = LSTM(128, return_sequences=True, go_backwards=False, name='lstm_1_x1')(x1)\n",
    "lstm_1_x2 = LSTM(1024, return_sequences=True, go_backwards=False, name='lstm_1_x2')(x2)"
   ]
  },
  {
   "cell_type": "code",
   "execution_count": 13,
   "metadata": {
    "collapsed": false
   },
   "outputs": [],
   "source": [
    "# Bidirectional_LSTM\n",
    "lstm_2_x1 = LSTM(128, return_sequences=True, go_backwards=True, name='lstm_2_x1')(lstm_1_x1)\n",
    "lstm_2_x2 = LSTM(1024, return_sequences=True, go_backwards=True, name='lstm_2_x2')(lstm_1_x2)"
   ]
  },
  {
   "cell_type": "code",
   "execution_count": 16,
   "metadata": {
    "collapsed": true
   },
   "outputs": [],
   "source": [
    "dropout_1_x1 = Dropout(rate=0.5, name=\"dropout_1_x1\")(lstm_2_x1)\n",
    "dropout_1_x2 = Dropout(rate=0.5, name=\"dropout_1_x2\")(lstm_2_x2)"
   ]
  },
  {
   "cell_type": "code",
   "execution_count": 18,
   "metadata": {
    "collapsed": true
   },
   "outputs": [],
   "source": [
    "# fc_2_x1 = Dense(1, activation='softmax', name='fc_2_x1')(dropout_1_x1) \n",
    "# fc_2_x2 = Dense(1, activation='softmax', name='fc_2_x2')(dropout_1_x2) "
   ]
  },
  {
   "cell_type": "code",
   "execution_count": 21,
   "metadata": {
    "collapsed": false
   },
   "outputs": [],
   "source": [
    "pool_1_x1 = GlobalMaxPooling1D(name='pool_1_x1')(fc_2_x1)\n",
    "pool_1_x2 = GlobalMaxPooling1D(name='pool_1_x2')(fc_2_x2)"
   ]
  },
  {
   "cell_type": "code",
   "execution_count": 25,
   "metadata": {
    "collapsed": false
   },
   "outputs": [],
   "source": [
    "merge_1 = concatenate([pool_1_x1, pool_1_x2])"
   ]
  },
  {
   "cell_type": "code",
   "execution_count": null,
   "metadata": {
    "collapsed": true
   },
   "outputs": [],
   "source": [
    "fc_2 = Dense(1, activation='softmax', name='fc_2')(dropout_1_x1) "
   ]
  }
 ],
 "metadata": {
  "kernelspec": {
   "display_name": "Python 3",
   "language": "python",
   "name": "python3"
  },
  "language_info": {
   "codemirror_mode": {
    "name": "ipython",
    "version": 3
   },
   "file_extension": ".py",
   "mimetype": "text/x-python",
   "name": "python",
   "nbconvert_exporter": "python",
   "pygments_lexer": "ipython3",
   "version": "3.6.5"
  }
 },
 "nbformat": 4,
 "nbformat_minor": 2
}
