{
 "cells": [
  {
   "cell_type": "code",
   "execution_count": 1,
   "metadata": {
    "collapsed": false
   },
   "outputs": [
    {
     "name": "stdout",
     "output_type": "stream",
     "text": [
      "frame\n",
      "video\n",
      "\n"
     ]
    }
   ],
   "source": [
    "# This Python 3 environment comes with many helpful analytics libraries installed\n",
    "# It is defined by the kaggle/python docker image: https://github.com/kaggle/docker-python\n",
    "# For example, here's several helpful packages to load in \n",
    "import os\n",
    "import numpy as np # linear algebra\n",
    "import pandas as pd # data processing, CSV file I/O (e.g. pd.read_csv)\n",
    "from sklearn.model_selection import train_test_split\n",
    "os.environ['TF_CPP_MIN_LOG_LEVEL']='2'\n",
    "# Input data files are available in the \"../input/\" directory.\n",
    "# For example, running this (by clicking run or pressing Shift+Enter) will list the files in the input directory\n",
    "import subprocess\n",
    "from subprocess import check_output\n",
    "try:\n",
    "    print(check_output([\"ls\", \"../v2\"]).decode(\"utf8\"))\n",
    "except subprocess.CalledProcessError as e:\n",
    "    raise RuntimeError(\"command '{}' return with error (code {}): {}\".format(e.cmd, e.returncode, e.output))\n",
    "# Any results you write to the current directory are saved as output.\n",
    "import tensorflow as tf"
   ]
  },
  {
   "cell_type": "code",
   "execution_count": 2,
   "metadata": {
    "collapsed": false
   },
   "outputs": [],
   "source": [
    "# now, let's read the frame-level data\n",
    "# due to execution time, we're only going to read the first video\n",
    "video_files = os.listdir(\"../v2/video/\")\n",
    "frame_files = os.listdir(\"../v2/frame/\")\n",
    "\n",
    "# Global variables\n",
    "num_labels = 4716"
   ]
  },
  {
   "cell_type": "code",
   "execution_count": 3,
   "metadata": {
    "collapsed": true
   },
   "outputs": [],
   "source": [
    "def createTargetVec(labels):\n",
    "    out = np.zeros((1, num_labels))\n",
    "    for label in labels:\n",
    "        out[0,label] = 1\n",
    "    return out"
   ]
  },
  {
   "cell_type": "code",
   "execution_count": 4,
   "metadata": {
    "collapsed": true
   },
   "outputs": [],
   "source": [
    "def get_dataset(frames, samples=5, k=0):\n",
    "    rgb_input = np.empty((samples, 100, 1024))\n",
    "    audio_input = np.empty((samples, 100, 128))\n",
    "    label_output = np.empty((samples, num_labels))\n",
    "    sess = tf.InteractiveSession()\n",
    "    for example in tf.python_io.tf_record_iterator(frames):        \n",
    "        tf_seq_example = tf.train.SequenceExample.FromString(example)\n",
    "        labels = tf_seq_example.context.feature['labels'].int64_list.value\n",
    "        rgb_frame = np.zeros((100, 1024))\n",
    "        audio_frame = np.zeros((100, 128))\n",
    "        for i in range(100):\n",
    "            rgb_frame[i] = tf.cast(tf.decode_raw(\n",
    "                   tf_seq_example.feature_lists.feature_list['rgb'].feature[i].bytes_list.value[0],tf.uint8)\n",
    "                          ,tf.float32).eval()\n",
    "            audio_frame[i] = tf.cast(tf.decode_raw(\n",
    "                    tf_seq_example.feature_lists.feature_list['audio'].feature[i].bytes_list.value[0],tf.uint8)\n",
    "                           ,tf.float32).eval()\n",
    "        rgb_input[k] = rgb_frame\n",
    "        audio_input[k] = audio_frame\n",
    "        label_output[k] = createTargetVec(labels[:])\n",
    "        k += 1\n",
    "        progress = (k / samples) * 100\n",
    "        if int(progress) % 10 == 0:\n",
    "            print(\"Progress\", progress, \"%\")\n",
    "        if k >= samples:\n",
    "            break\n",
    "    sess.close()\n",
    "    return audio_input, rgb_input, label_output"
   ]
  },
  {
   "cell_type": "code",
   "execution_count": 5,
   "metadata": {
    "collapsed": false
   },
   "outputs": [
    {
     "name": "stdout",
     "output_type": "stream",
     "text": [
      "Progress 20.0 %\n",
      "Progress 40.0 %\n",
      "Progress 60.0 %\n",
      "Progress 80.0 %\n",
      "Progress 100.0 %\n"
     ]
    }
   ],
   "source": [
    "# video_lvl_record = \"../v2/video/train-1.tfrecord\"\n",
    "frame_lvl_record = \"../v2/frame/train4f.tfrecord\"\n",
    "\n",
    "audio_input, rgb_input, label_output = get_dataset(frame_lvl_record)\n",
    "\n",
    "X_train_rgb, X_test_rgb, _, _ = train_test_split(rgb_input, label_output, test_size=0.2, random_state=42)\n",
    "X_train_audio, X_test_audio, y_train, y_test = train_test_split(audio_input, label_output, test_size=0.2, random_state=42)"
   ]
  },
  {
   "cell_type": "code",
   "execution_count": 6,
   "metadata": {
    "collapsed": false
   },
   "outputs": [
    {
     "name": "stdout",
     "output_type": "stream",
     "text": [
      "4 train rgb\n",
      "1 test rgb\n",
      "\n",
      "4 train sequences\n",
      "1 test sequences\n",
      "\n",
      "X_train_rgb shape: (4, 100, 1024)\n",
      "X_test_rgb shape: (1, 100, 1024)\n",
      "\n",
      "X_train_audio shape: (4, 100, 128)\n",
      "X_test_audio shape: (1, 100, 128)\n",
      "\n",
      "y_train shape: (4, 4716)\n",
      "y_test shape: (1, 4716)\n"
     ]
    }
   ],
   "source": [
    "print(len(X_train_rgb), 'train rgb')\n",
    "print(len(X_test_rgb), 'test rgb')\n",
    "print(\"\")\n",
    "print(len(X_train_audio), 'train sequences')\n",
    "print(len(X_test_audio), 'test sequences')\n",
    "print(\"\")\n",
    "print('X_train_rgb shape:', X_train_rgb.shape)\n",
    "print('X_test_rgb shape:', X_test_rgb.shape)\n",
    "print(\"\")\n",
    "print('X_train_audio shape:', X_train_audio.shape)\n",
    "print('X_test_audio shape:', X_test_audio.shape)\n",
    "print(\"\")\n",
    "print('y_train shape:', y_train.shape)\n",
    "print('y_test shape:', y_test.shape)"
   ]
  },
  {
   "cell_type": "markdown",
   "metadata": {},
   "source": [
    "## Lets take a look at the rgb data\n",
    "****"
   ]
  },
  {
   "cell_type": "code",
   "execution_count": 7,
   "metadata": {
    "collapsed": true
   },
   "outputs": [],
   "source": [
    "import matplotlib.pyplot as plt\n",
    "import matplotlib.image as mpimg"
   ]
  },
  {
   "cell_type": "code",
   "execution_count": 8,
   "metadata": {
    "collapsed": false,
    "scrolled": true
   },
   "outputs": [
    {
     "data": {
      "text/plain": [
       "array([[[100.,  54.,  84., ...,  46.,  10., 132.],\n",
       "        [105.,   0.,  91., ..., 153.,  27., 103.],\n",
       "        [ 93.,  24.,  95., ...,  84., 113., 130.],\n",
       "        ...,\n",
       "        [ 90.,  35., 122., ..., 190., 155., 147.],\n",
       "        [ 86.,  26., 112., ..., 129., 100., 126.],\n",
       "        [ 81.,  12., 120., ..., 222., 114., 140.]],\n",
       "\n",
       "       [[ 65., 186., 255., ..., 151.,  58., 141.],\n",
       "        [ 51., 198., 255., ..., 144.,  63., 167.],\n",
       "        [ 89., 175., 255., ..., 255.,  80., 119.],\n",
       "        ...,\n",
       "        [148., 169., 255., ...,  13., 158., 101.],\n",
       "        [159., 156., 203., ..., 103., 186.,  56.],\n",
       "        [118., 176., 207., ..., 133., 156., 106.]],\n",
       "\n",
       "       [[  0.,  85., 148., ..., 124., 135., 133.],\n",
       "        [  0.,  62., 104., ..., 116., 111., 128.],\n",
       "        [  0.,  75., 103., ...,  74.,  26., 176.],\n",
       "        ...,\n",
       "        [144., 172.,  86., ..., 244.,  72.,  95.],\n",
       "        [210., 153., 100., ..., 255., 200., 189.],\n",
       "        [200., 160.,  99., ..., 194., 220., 195.]],\n",
       "\n",
       "       [[161.,  57.,  93., ...,  44., 179.,  85.],\n",
       "        [185.,  51., 105., ...,  82., 226.,   0.],\n",
       "        [181.,  41., 130., ..., 107., 231.,  42.],\n",
       "        ...,\n",
       "        [141., 164., 108., ..., 139.,  56.,  73.],\n",
       "        [128., 132., 100., ..., 110., 112., 132.],\n",
       "        [110., 155.,  86., ..., 102., 143., 138.]],\n",
       "\n",
       "       [[  0.,  72., 173., ..., 142., 119., 137.],\n",
       "        [  0.,  72., 173., ..., 142., 119., 137.],\n",
       "        [  0.,  72., 173., ..., 142., 119., 137.],\n",
       "        ...,\n",
       "        [229., 153., 194., ..., 103., 120., 188.],\n",
       "        [165., 165., 228., ..., 140., 101., 214.],\n",
       "        [226., 151., 219., ..., 124.,  91.,  88.]]])"
      ]
     },
     "execution_count": 8,
     "metadata": {},
     "output_type": "execute_result"
    }
   ],
   "source": [
    "rgb_input"
   ]
  },
  {
   "cell_type": "code",
   "execution_count": 9,
   "metadata": {
    "collapsed": false,
    "scrolled": true
   },
   "outputs": [
    {
     "data": {
      "text/plain": [
       "(5, 100, 1024)"
      ]
     },
     "execution_count": 9,
     "metadata": {},
     "output_type": "execute_result"
    }
   ],
   "source": [
    "rgb_input.shape"
   ]
  },
  {
   "cell_type": "code",
   "execution_count": 10,
   "metadata": {
    "collapsed": false
   },
   "outputs": [
    {
     "data": {
      "text/plain": [
       "array([[100.,  54.,  84., ...,  46.,  10., 132.],\n",
       "       [105.,   0.,  91., ..., 153.,  27., 103.],\n",
       "       [ 93.,  24.,  95., ...,  84., 113., 130.],\n",
       "       ...,\n",
       "       [ 90.,  35., 122., ..., 190., 155., 147.],\n",
       "       [ 86.,  26., 112., ..., 129., 100., 126.],\n",
       "       [ 81.,  12., 120., ..., 222., 114., 140.]])"
      ]
     },
     "execution_count": 10,
     "metadata": {},
     "output_type": "execute_result"
    }
   ],
   "source": [
    "rgb_input[0]"
   ]
  },
  {
   "cell_type": "code",
   "execution_count": 11,
   "metadata": {
    "collapsed": false
   },
   "outputs": [
    {
     "data": {
      "text/plain": [
       "(100, 1024)"
      ]
     },
     "execution_count": 11,
     "metadata": {},
     "output_type": "execute_result"
    }
   ],
   "source": [
    "rgb_input[0].shape"
   ]
  },
  {
   "cell_type": "code",
   "execution_count": 12,
   "metadata": {
    "collapsed": false
   },
   "outputs": [
    {
     "name": "stdout",
     "output_type": "stream",
     "text": [
      "The first video has 100 frames\n"
     ]
    }
   ],
   "source": [
    "print('The first video has %d frames' %len(rgb_input[0]))"
   ]
  },
  {
   "cell_type": "code",
   "execution_count": 13,
   "metadata": {
    "collapsed": false
   },
   "outputs": [
    {
     "data": {
      "text/plain": [
       "array([100.,  54.,  84., ...,  46.,  10., 132.])"
      ]
     },
     "execution_count": 13,
     "metadata": {},
     "output_type": "execute_result"
    }
   ],
   "source": [
    "rgb_input[0][0]"
   ]
  },
  {
   "cell_type": "code",
   "execution_count": 14,
   "metadata": {
    "collapsed": false
   },
   "outputs": [
    {
     "data": {
      "text/plain": [
       "(1024,)"
      ]
     },
     "execution_count": 14,
     "metadata": {},
     "output_type": "execute_result"
    }
   ],
   "source": [
    "rgb_input[0][0].shape"
   ]
  },
  {
   "cell_type": "code",
   "execution_count": 15,
   "metadata": {
    "collapsed": false
   },
   "outputs": [],
   "source": [
    "import numpy as np\n",
    "from matplotlib import pyplot as plt\n",
    "from PIL import Image\n",
    "import glob\n",
    "import cv2"
   ]
  },
  {
   "cell_type": "code",
   "execution_count": 16,
   "metadata": {
    "collapsed": false
   },
   "outputs": [],
   "source": [
    "# x_data = np.array( [np.array(cv2.imread(rgb_input[0][0])) for i in range(len(rgb_input[0][0]))] )\n",
    "# print (x_data.shape)"
   ]
  },
  {
   "cell_type": "markdown",
   "metadata": {},
   "source": [
    "## Now anylyze the Audio data\n",
    "****\n",
    "** Since we're given sequential data, most likely I'll use an LSTM or GRU**"
   ]
  },
  {
   "cell_type": "code",
   "execution_count": 17,
   "metadata": {
    "collapsed": false
   },
   "outputs": [
    {
     "name": "stdout",
     "output_type": "stream",
     "text": [
      "(100, 128)\n"
     ]
    }
   ],
   "source": [
    "print(X_train_audio.shape[1:])"
   ]
  },
  {
   "cell_type": "code",
   "execution_count": 18,
   "metadata": {
    "collapsed": false
   },
   "outputs": [
    {
     "name": "stderr",
     "output_type": "stream",
     "text": [
      "Using TensorFlow backend.\n"
     ]
    }
   ],
   "source": [
    "from keras.layers import LSTM\n",
    "from keras.layers import Dense\n",
    "from keras.models import Sequential\n",
    "\n",
    "audio_model = Sequential()\n",
    "audio_model.add(LSTM(128, input_shape=(100,128), return_sequences=True))\n",
    "audio_model.add(LSTM(128, return_sequences=True))\n",
    "audio_model.add(LSTM(128))\n",
    "audio_model.add(Dense(128, activation='relu'))\n",
    "audio_model.add(Dense(128, activation='relu'))\n",
    "audio_model.add(Dense(num_labels, activation='softmax'))\n",
    "audio_model.compile(loss='categorical_crossentropy', optimizer='adam', metrics=['accuracy'])"
   ]
  },
  {
   "cell_type": "code",
   "execution_count": 19,
   "metadata": {
    "collapsed": false
   },
   "outputs": [
    {
     "name": "stdout",
     "output_type": "stream",
     "text": [
      "_________________________________________________________________\n",
      "Layer (type)                 Output Shape              Param #   \n",
      "=================================================================\n",
      "lstm_1 (LSTM)                (None, 100, 128)          131584    \n",
      "_________________________________________________________________\n",
      "lstm_2 (LSTM)                (None, 100, 128)          131584    \n",
      "_________________________________________________________________\n",
      "lstm_3 (LSTM)                (None, 128)               131584    \n",
      "_________________________________________________________________\n",
      "dense_1 (Dense)              (None, 128)               16512     \n",
      "_________________________________________________________________\n",
      "dense_2 (Dense)              (None, 128)               16512     \n",
      "_________________________________________________________________\n",
      "dense_3 (Dense)              (None, 4716)              608364    \n",
      "=================================================================\n",
      "Total params: 1,036,140\n",
      "Trainable params: 1,036,140\n",
      "Non-trainable params: 0\n",
      "_________________________________________________________________\n",
      "None\n"
     ]
    }
   ],
   "source": [
    "print(audio_model.summary())"
   ]
  },
  {
   "cell_type": "code",
   "execution_count": 26,
   "metadata": {
    "collapsed": false,
    "scrolled": true
   },
   "outputs": [
    {
     "name": "stdout",
     "output_type": "stream",
     "text": [
      "Train on 4 samples, validate on 1 samples\n",
      "Epoch 1/60\n",
      "4/4 [==============================] - 1s 187ms/step - loss: 6.1311 - acc: 0.5000 - val_loss: 64.4724 - val_acc: 0.0000e+00\n",
      "Epoch 2/60\n",
      "4/4 [==============================] - 0s 84ms/step - loss: 6.1231 - acc: 0.5000 - val_loss: 64.4724 - val_acc: 0.0000e+00\n",
      "Epoch 3/60\n",
      "4/4 [==============================] - 0s 84ms/step - loss: 6.1144 - acc: 0.5000 - val_loss: 64.4724 - val_acc: 0.0000e+00\n",
      "Epoch 4/60\n",
      "4/4 [==============================] - 0s 86ms/step - loss: 6.1049 - acc: 0.5000 - val_loss: 64.4724 - val_acc: 0.0000e+00\n",
      "Epoch 5/60\n",
      "4/4 [==============================] - 0s 92ms/step - loss: 6.0946 - acc: 0.5000 - val_loss: 64.4724 - val_acc: 0.0000e+00\n",
      "Epoch 6/60\n",
      "4/4 [==============================] - 0s 105ms/step - loss: 6.0832 - acc: 0.5000 - val_loss: 64.4724 - val_acc: 0.0000e+00\n",
      "Epoch 7/60\n",
      "4/4 [==============================] - 0s 80ms/step - loss: 6.0700 - acc: 0.5000 - val_loss: 64.4724 - val_acc: 0.0000e+00\n",
      "Epoch 8/60\n",
      "4/4 [==============================] - 0s 77ms/step - loss: 6.0553 - acc: 0.5000 - val_loss: 64.4724 - val_acc: 0.0000e+00\n",
      "Epoch 9/60\n",
      "4/4 [==============================] - 0s 79ms/step - loss: 6.0637 - acc: 0.5000 - val_loss: 64.4724 - val_acc: 0.0000e+00\n",
      "Epoch 10/60\n",
      "4/4 [==============================] - 0s 80ms/step - loss: 6.0492 - acc: 0.5000 - val_loss: 64.4724 - val_acc: 0.0000e+00\n",
      "Epoch 11/60\n",
      "4/4 [==============================] - 0s 88ms/step - loss: 6.0339 - acc: 0.5000 - val_loss: 64.4724 - val_acc: 0.0000e+00\n",
      "Epoch 12/60\n",
      "4/4 [==============================] - 0s 99ms/step - loss: 6.0172 - acc: 0.5000 - val_loss: 64.4724 - val_acc: 0.0000e+00\n",
      "Epoch 13/60\n",
      "4/4 [==============================] - 0s 84ms/step - loss: 5.9998 - acc: 0.5000 - val_loss: 64.4724 - val_acc: 0.0000e+00\n",
      "Epoch 14/60\n",
      "4/4 [==============================] - 0s 79ms/step - loss: 5.9819 - acc: 0.5000 - val_loss: 64.4724 - val_acc: 0.0000e+00\n",
      "Epoch 15/60\n",
      "4/4 [==============================] - 0s 73ms/step - loss: 5.9628 - acc: 0.5000 - val_loss: 64.4724 - val_acc: 0.0000e+00\n",
      "Epoch 16/60\n",
      "4/4 [==============================] - 0s 82ms/step - loss: 5.9421 - acc: 0.5000 - val_loss: 64.4724 - val_acc: 0.0000e+00\n",
      "Epoch 17/60\n",
      "4/4 [==============================] - 0s 86ms/step - loss: 5.9198 - acc: 0.5000 - val_loss: 64.4724 - val_acc: 0.0000e+00\n",
      "Epoch 18/60\n",
      "4/4 [==============================] - 0s 81ms/step - loss: 5.8957 - acc: 0.5000 - val_loss: 64.4724 - val_acc: 0.0000e+00\n",
      "Epoch 19/60\n",
      "4/4 [==============================] - 0s 86ms/step - loss: 5.8697 - acc: 0.5000 - val_loss: 64.4724 - val_acc: 0.0000e+00\n",
      "Epoch 20/60\n",
      "4/4 [==============================] - 0s 87ms/step - loss: 5.8415 - acc: 0.5000 - val_loss: 64.4724 - val_acc: 0.0000e+00\n",
      "Epoch 21/60\n",
      "4/4 [==============================] - 0s 86ms/step - loss: 5.8108 - acc: 0.5000 - val_loss: 64.4724 - val_acc: 0.0000e+00\n",
      "Epoch 22/60\n",
      "4/4 [==============================] - 0s 91ms/step - loss: 5.7779 - acc: 0.5000 - val_loss: 64.4724 - val_acc: 0.0000e+00\n",
      "Epoch 23/60\n",
      "4/4 [==============================] - 0s 82ms/step - loss: 5.7424 - acc: 0.5000 - val_loss: 64.4724 - val_acc: 0.0000e+00\n",
      "Epoch 24/60\n",
      "4/4 [==============================] - 0s 92ms/step - loss: 5.7043 - acc: 0.5000 - val_loss: 64.4724 - val_acc: 0.0000e+00\n",
      "Epoch 25/60\n",
      "4/4 [==============================] - 0s 85ms/step - loss: 5.6580 - acc: 0.5000 - val_loss: 64.4724 - val_acc: 0.0000e+00\n",
      "Epoch 26/60\n",
      "4/4 [==============================] - 0s 80ms/step - loss: 5.6146 - acc: 0.5000 - val_loss: 64.4724 - val_acc: 0.0000e+00\n",
      "Epoch 27/60\n",
      "4/4 [==============================] - 0s 93ms/step - loss: 5.5692 - acc: 0.5000 - val_loss: 64.4724 - val_acc: 0.0000e+00\n",
      "Epoch 28/60\n",
      "4/4 [==============================] - 0s 95ms/step - loss: 5.6068 - acc: 0.5000 - val_loss: 64.4724 - val_acc: 0.0000e+00\n",
      "Epoch 29/60\n",
      "4/4 [==============================] - 0s 93ms/step - loss: 5.5188 - acc: 0.5000 - val_loss: 64.4724 - val_acc: 0.0000e+00\n",
      "Epoch 30/60\n",
      "4/4 [==============================] - 0s 90ms/step - loss: 5.4376 - acc: 0.5000 - val_loss: 64.4724 - val_acc: 0.0000e+00\n",
      "Epoch 31/60\n",
      "4/4 [==============================] - 0s 91ms/step - loss: 5.4198 - acc: 0.5000 - val_loss: 64.4724 - val_acc: 0.0000e+00\n",
      "Epoch 32/60\n",
      "4/4 [==============================] - 0s 97ms/step - loss: 5.4163 - acc: 0.5000 - val_loss: 64.4724 - val_acc: 0.0000e+00\n",
      "Epoch 33/60\n",
      "4/4 [==============================] - 0s 102ms/step - loss: 5.3718 - acc: 0.5000 - val_loss: 64.4724 - val_acc: 0.0000e+00\n",
      "Epoch 34/60\n",
      "4/4 [==============================] - 0s 83ms/step - loss: 5.3380 - acc: 0.5000 - val_loss: 64.4724 - val_acc: 0.0000e+00\n",
      "Epoch 35/60\n",
      "4/4 [==============================] - 0s 100ms/step - loss: 5.6909 - acc: 0.5000 - val_loss: 64.4724 - val_acc: 0.0000e+00\n",
      "Epoch 36/60\n",
      "4/4 [==============================] - 0s 91ms/step - loss: 5.2175 - acc: 0.5000 - val_loss: 64.4724 - val_acc: 0.0000e+00\n",
      "Epoch 37/60\n",
      "4/4 [==============================] - 0s 79ms/step - loss: 5.2630 - acc: 0.5000 - val_loss: 64.4724 - val_acc: 0.0000e+00\n",
      "Epoch 38/60\n",
      "4/4 [==============================] - 0s 91ms/step - loss: 5.1761 - acc: 0.5000 - val_loss: 64.4724 - val_acc: 0.0000e+00\n",
      "Epoch 39/60\n",
      "4/4 [==============================] - 0s 84ms/step - loss: 5.1554 - acc: 0.5000 - val_loss: 64.4724 - val_acc: 0.0000e+00\n",
      "Epoch 40/60\n",
      "4/4 [==============================] - 0s 92ms/step - loss: 5.3399 - acc: 0.5000 - val_loss: 64.4724 - val_acc: 0.0000e+00\n",
      "Epoch 41/60\n",
      "4/4 [==============================] - 0s 88ms/step - loss: 5.2301 - acc: 0.7500 - val_loss: 64.4724 - val_acc: 0.0000e+00\n",
      "Epoch 42/60\n",
      "4/4 [==============================] - 0s 94ms/step - loss: 5.3264 - acc: 0.7500 - val_loss: 64.4724 - val_acc: 0.0000e+00\n",
      "Epoch 43/60\n",
      "4/4 [==============================] - 0s 91ms/step - loss: 5.0899 - acc: 0.5000 - val_loss: 64.4724 - val_acc: 0.0000e+00\n",
      "Epoch 44/60\n",
      "4/4 [==============================] - 0s 89ms/step - loss: 5.3582 - acc: 0.2500 - val_loss: 64.4724 - val_acc: 0.0000e+00\n",
      "Epoch 45/60\n",
      "4/4 [==============================] - 0s 88ms/step - loss: 5.1615 - acc: 0.7500 - val_loss: 64.4724 - val_acc: 0.0000e+00\n",
      "Epoch 46/60\n",
      "4/4 [==============================] - 0s 100ms/step - loss: 5.0336 - acc: 0.5000 - val_loss: 64.4724 - val_acc: 0.0000e+00\n",
      "Epoch 47/60\n",
      "4/4 [==============================] - 0s 114ms/step - loss: 5.0519 - acc: 0.5000 - val_loss: 64.4724 - val_acc: 0.0000e+00\n",
      "Epoch 48/60\n",
      "4/4 [==============================] - 0s 108ms/step - loss: 5.2258 - acc: 0.7500 - val_loss: 64.4724 - val_acc: 0.0000e+00\n",
      "Epoch 49/60\n",
      "4/4 [==============================] - 0s 84ms/step - loss: 5.0125 - acc: 0.5000 - val_loss: 64.4724 - val_acc: 0.0000e+00\n",
      "Epoch 50/60\n",
      "4/4 [==============================] - 0s 86ms/step - loss: 5.0618 - acc: 0.5000 - val_loss: 64.4724 - val_acc: 0.0000e+00\n",
      "Epoch 51/60\n",
      "4/4 [==============================] - 0s 94ms/step - loss: 5.1033 - acc: 0.7500 - val_loss: 64.4724 - val_acc: 0.0000e+00\n",
      "Epoch 52/60\n",
      "4/4 [==============================] - 1s 143ms/step - loss: 5.0761 - acc: 0.5000 - val_loss: 64.4724 - val_acc: 0.0000e+00\n",
      "Epoch 53/60\n",
      "4/4 [==============================] - 1s 142ms/step - loss: 4.9803 - acc: 0.5000 - val_loss: 64.4724 - val_acc: 0.0000e+00\n",
      "Epoch 54/60\n",
      "4/4 [==============================] - 0s 97ms/step - loss: 5.0498 - acc: 0.7500 - val_loss: 64.4724 - val_acc: 0.0000e+00\n",
      "Epoch 55/60\n",
      "4/4 [==============================] - 0s 97ms/step - loss: 5.0362 - acc: 0.7500 - val_loss: 64.4724 - val_acc: 0.0000e+00\n",
      "Epoch 56/60\n",
      "4/4 [==============================] - 0s 86ms/step - loss: 4.8640 - acc: 0.7500 - val_loss: 64.4724 - val_acc: 0.0000e+00\n",
      "Epoch 57/60\n",
      "4/4 [==============================] - 0s 89ms/step - loss: 4.7769 - acc: 0.7500 - val_loss: 64.4724 - val_acc: 0.0000e+00\n",
      "Epoch 58/60\n",
      "4/4 [==============================] - 0s 88ms/step - loss: 4.8745 - acc: 0.2500 - val_loss: 64.4724 - val_acc: 0.0000e+00\n",
      "Epoch 59/60\n",
      "4/4 [==============================] - 0s 91ms/step - loss: 4.8019 - acc: 0.5000 - val_loss: 64.4724 - val_acc: 0.0000e+00\n",
      "Epoch 60/60\n",
      "4/4 [==============================] - 0s 103ms/step - loss: 4.6860 - acc: 0.7500 - val_loss: 64.4724 - val_acc: 0.0000e+00\n",
      "\n",
      "acc: 100.00%\n"
     ]
    }
   ],
   "source": [
    "audio_model.fit(X_train_audio, y_train, validation_data=(X_test_audio, y_test), epochs=60, batch_size=64)\n",
    "# evaluate the model\n",
    "audio_scores = audio_model.evaluate(X_train_audio, y_train, verbose=0)\n",
    "print(\"\")\n",
    "print(\"%s: %.2f%%\" % (audio_model.metrics_names[1], audio_scores[1]*100))"
   ]
  },
  {
   "cell_type": "code",
   "execution_count": 27,
   "metadata": {
    "collapsed": true
   },
   "outputs": [],
   "source": [
    "audio_model_json = audio_model.to_json()"
   ]
  },
  {
   "cell_type": "code",
   "execution_count": 23,
   "metadata": {
    "collapsed": false
   },
   "outputs": [
    {
     "name": "stdout",
     "output_type": "stream",
     "text": [
      "Saved model to disk\n"
     ]
    }
   ],
   "source": [
    "with open(\"audio_model.json\", \"w\") as json_file:\n",
    "    json_file.write(audio_model_json)\n",
    "# serialize weights to HDF5\n",
    "audio_model.save_weights(\"audio_model.h5\")\n",
    "print(\"Saved model to disk\")"
   ]
  },
  {
   "cell_type": "code",
   "execution_count": 31,
   "metadata": {
    "collapsed": false
   },
   "outputs": [
    {
     "name": "stdout",
     "output_type": "stream",
     "text": [
      "Loaded model from disk\n"
     ]
    }
   ],
   "source": [
    "# load json and create model\n",
    "from keras.models import model_from_json\n",
    "audio_json_file = open('audio_model.json', 'r')\n",
    "audio_loaded_model_json = audio_json_file.read()\n",
    "audio_json_file.close()\n",
    "audio_loaded_model = model_from_json(audio_loaded_model_json)\n",
    "# load weights into new model\n",
    "audio_loaded_model.load_weights(\"audio_model.h5\")\n",
    "print(\"Loaded model from disk\")"
   ]
  },
  {
   "cell_type": "code",
   "execution_count": 32,
   "metadata": {
    "collapsed": false
   },
   "outputs": [
    {
     "name": "stdout",
     "output_type": "stream",
     "text": [
      "acc: 99.94%\n"
     ]
    }
   ],
   "source": [
    "# evaluate loaded model on test data\n",
    "audio_loaded_model.compile(loss='binary_crossentropy', optimizer='rmsprop', metrics=['accuracy'])\n",
    "audio_score = audio_loaded_model.evaluate(X_train_audio, y_train, verbose=0)\n",
    "print(\"%s: %.2f%%\" % (audio_loaded_model.metrics_names[1], audio_score[1]*100))"
   ]
  },
  {
   "cell_type": "code",
   "execution_count": null,
   "metadata": {
    "collapsed": true
   },
   "outputs": [],
   "source": []
  },
  {
   "cell_type": "code",
   "execution_count": null,
   "metadata": {
    "collapsed": true
   },
   "outputs": [],
   "source": []
  },
  {
   "cell_type": "markdown",
   "metadata": {
    "collapsed": true
   },
   "source": [
    "## Time for RGB Array\n",
    "** **\n",
    "** The dimensions for an rgb array is 1024 x 100. 100 seconds with each second having 1024 each. **"
   ]
  },
  {
   "cell_type": "code",
   "execution_count": 33,
   "metadata": {
    "collapsed": true
   },
   "outputs": [],
   "source": [
    "rgb_model = Sequential()\n",
    "rgb_model.add(LSTM(1024, input_shape=(100,1024), return_sequences=True))\n",
    "rgb_model.add(LSTM(1024, return_sequences=True))\n",
    "rgb_model.add(LSTM(1024))\n",
    "rgb_model.add(Dense(1024, activation='relu'))\n",
    "rgb_model.add(Dense(1024, activation='relu'))\n",
    "rgb_model.add(Dense(num_labels, activation='softmax'))\n",
    "rgb_model.compile(loss='categorical_crossentropy', optimizer='adam', metrics=['accuracy'])"
   ]
  },
  {
   "cell_type": "code",
   "execution_count": 34,
   "metadata": {
    "collapsed": false
   },
   "outputs": [
    {
     "name": "stdout",
     "output_type": "stream",
     "text": [
      "_________________________________________________________________\n",
      "Layer (type)                 Output Shape              Param #   \n",
      "=================================================================\n",
      "lstm_4 (LSTM)                (None, 100, 1024)         8392704   \n",
      "_________________________________________________________________\n",
      "lstm_5 (LSTM)                (None, 100, 1024)         8392704   \n",
      "_________________________________________________________________\n",
      "lstm_6 (LSTM)                (None, 1024)              8392704   \n",
      "_________________________________________________________________\n",
      "dense_4 (Dense)              (None, 1024)              1049600   \n",
      "_________________________________________________________________\n",
      "dense_5 (Dense)              (None, 1024)              1049600   \n",
      "_________________________________________________________________\n",
      "dense_6 (Dense)              (None, 4716)              4833900   \n",
      "=================================================================\n",
      "Total params: 32,111,212\n",
      "Trainable params: 32,111,212\n",
      "Non-trainable params: 0\n",
      "_________________________________________________________________\n",
      "None\n"
     ]
    }
   ],
   "source": [
    "print(rgb_model.summary())"
   ]
  },
  {
   "cell_type": "code",
   "execution_count": 35,
   "metadata": {
    "collapsed": false
   },
   "outputs": [
    {
     "name": "stdout",
     "output_type": "stream",
     "text": [
      "Train on 4 samples, validate on 1 samples\n",
      "Epoch 1/15\n",
      "4/4 [==============================] - 14s 4s/step - loss: 23.2864 - acc: 0.0000e+00 - val_loss: 33.4403 - val_acc: 0.0000e+00\n",
      "Epoch 2/15\n",
      "4/4 [==============================] - 10s 3s/step - loss: 22.2407 - acc: 0.5000 - val_loss: 32.3331 - val_acc: 0.0000e+00\n",
      "Epoch 3/15\n",
      "4/4 [==============================] - 11s 3s/step - loss: 15.1650 - acc: 0.5000 - val_loss: 46.0815 - val_acc: 0.0000e+00\n",
      "Epoch 4/15\n",
      "4/4 [==============================] - 11s 3s/step - loss: 11.3757 - acc: 0.5000 - val_loss: 45.5355 - val_acc: 0.0000e+00\n",
      "Epoch 5/15\n",
      "4/4 [==============================] - 10s 3s/step - loss: 6.8420 - acc: 0.0000e+00 - val_loss: 52.1337 - val_acc: 0.0000e+00\n",
      "Epoch 6/15\n",
      "4/4 [==============================] - 9s 2s/step - loss: 7.6581 - acc: 0.2500 - val_loss: 56.6134 - val_acc: 0.0000e+00\n",
      "Epoch 7/15\n",
      "4/4 [==============================] - 9s 2s/step - loss: 8.3480 - acc: 0.2500 - val_loss: 56.7590 - val_acc: 0.0000e+00\n",
      "Epoch 8/15\n",
      "4/4 [==============================] - 9s 2s/step - loss: 7.8226 - acc: 0.0000e+00 - val_loss: 55.6097 - val_acc: 0.0000e+00\n",
      "Epoch 9/15\n",
      "4/4 [==============================] - 9s 2s/step - loss: 7.2062 - acc: 0.0000e+00 - val_loss: 54.0526 - val_acc: 0.0000e+00\n",
      "Epoch 10/15\n",
      "4/4 [==============================] - 10s 3s/step - loss: 6.7007 - acc: 0.0000e+00 - val_loss: 52.6059 - val_acc: 0.0000e+00\n",
      "Epoch 11/15\n",
      "4/4 [==============================] - 10s 2s/step - loss: 6.3673 - acc: 0.5000 - val_loss: 52.4012 - val_acc: 0.0000e+00\n",
      "Epoch 12/15\n",
      "4/4 [==============================] - 10s 3s/step - loss: 6.7355 - acc: 0.5000 - val_loss: 50.7102 - val_acc: 0.0000e+00\n",
      "Epoch 13/15\n",
      "4/4 [==============================] - 9s 2s/step - loss: 6.7717 - acc: 0.5000 - val_loss: 47.9022 - val_acc: 0.0000e+00\n",
      "Epoch 14/15\n",
      "4/4 [==============================] - 9s 2s/step - loss: 6.5011 - acc: 0.5000 - val_loss: 45.8519 - val_acc: 0.0000e+00\n",
      "Epoch 15/15\n",
      "4/4 [==============================] - 10s 3s/step - loss: 6.4242 - acc: 0.5000 - val_loss: 45.3518 - val_acc: 0.0000e+00\n",
      "\n",
      "acc: 50.00%\n"
     ]
    }
   ],
   "source": [
    "rgb_model.fit(X_train_rgb, y_train, validation_data=(X_test_rgb, y_test), epochs=15, batch_size=64)\n",
    "# evaluate the model\n",
    "rgb_scores = rgb_model.evaluate(X_train_rgb, y_train, verbose=0)\n",
    "print(\"\")\n",
    "print(\"%s: %.2f%%\" % (rgb_model.metrics_names[1], rgb_scores[1]*100))"
   ]
  },
  {
   "cell_type": "code",
   "execution_count": 36,
   "metadata": {
    "collapsed": true
   },
   "outputs": [],
   "source": [
    "rgb_model_json = rgb_model.to_json()"
   ]
  },
  {
   "cell_type": "code",
   "execution_count": 37,
   "metadata": {
    "collapsed": false
   },
   "outputs": [
    {
     "name": "stdout",
     "output_type": "stream",
     "text": [
      "Saved model to disk\n"
     ]
    }
   ],
   "source": [
    "with open(\"rgb_model.json\", \"w\") as json_file:\n",
    "    json_file.write(rgb_model_json)\n",
    "# serialize weights to HDF5\n",
    "rgb_model.save_weights(\"rgb_model.h5\")\n",
    "print(\"Saved model to disk\")"
   ]
  },
  {
   "cell_type": "code",
   "execution_count": 38,
   "metadata": {
    "collapsed": false
   },
   "outputs": [
    {
     "name": "stdout",
     "output_type": "stream",
     "text": [
      "Loaded model from disk\n"
     ]
    }
   ],
   "source": [
    "# load json and create model\n",
    "from keras.models import model_from_json\n",
    "rgb_json_file = open('rgb_model.json', 'r')\n",
    "rgb_loaded_model_json = rgb_json_file.read()\n",
    "rgb_json_file.close()\n",
    "rgb_loaded_model = model_from_json(rgb_loaded_model_json)\n",
    "# load weights into new model\n",
    "rgb_loaded_model.load_weights(\"rgb_model.h5\")\n",
    "print(\"Loaded model from disk\")"
   ]
  },
  {
   "cell_type": "code",
   "execution_count": 39,
   "metadata": {
    "collapsed": false
   },
   "outputs": [
    {
     "name": "stdout",
     "output_type": "stream",
     "text": [
      "acc: 99.94%\n"
     ]
    }
   ],
   "source": [
    "# evaluate loaded model on test data\n",
    "rgb_loaded_model.compile(loss='binary_crossentropy', optimizer='rmsprop', metrics=['accuracy'])\n",
    "rgb_score = rgb_loaded_model.evaluate(X_train_rgb, y_train, verbose=0)\n",
    "print(\"%s: %.2f%%\" % (rgb_loaded_model.metrics_names[1], rgb_score[1]*100))"
   ]
  },
  {
   "cell_type": "code",
   "execution_count": null,
   "metadata": {
    "collapsed": true
   },
   "outputs": [],
   "source": []
  }
 ],
 "metadata": {
  "kernelspec": {
   "display_name": "Python 3",
   "language": "python",
   "name": "python3"
  },
  "language_info": {
   "codemirror_mode": {
    "name": "ipython",
    "version": 3
   },
   "file_extension": ".py",
   "mimetype": "text/x-python",
   "name": "python",
   "nbconvert_exporter": "python",
   "pygments_lexer": "ipython3",
   "version": "3.6.5"
  }
 },
 "nbformat": 4,
 "nbformat_minor": 2
}
