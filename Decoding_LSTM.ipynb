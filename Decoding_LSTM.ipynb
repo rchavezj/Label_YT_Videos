{
 "cells": [
  {
   "cell_type": "code",
   "execution_count": 2,
   "metadata": {
    "collapsed": false
   },
   "outputs": [
    {
     "name": "stdout",
     "output_type": "stream",
     "text": [
      "frame\n",
      "models\n",
      "oldData\n",
      "video\n",
      "\n"
     ]
    },
    {
     "name": "stderr",
     "output_type": "stream",
     "text": [
      "/Users/user/anaconda/lib/python3.6/site-packages/h5py/__init__.py:36: FutureWarning: Conversion of the second argument of issubdtype from `float` to `np.floating` is deprecated. In future, it will be treated as `np.float64 == np.dtype(float).type`.\n",
      "  from ._conv import register_converters as _register_converters\n"
     ]
    }
   ],
   "source": [
    "# This Python 3 environment comes with many helpful analytics libraries installed\n",
    "# It is defined by the kaggle/python docker image: https://github.com/kaggle/docker-python\n",
    "# For example, here's several helpful packages to load in \n",
    "import os\n",
    "import numpy as np # linear algebra\n",
    "import pandas as pd # data processing, CSV file I/O (e.g. pd.read_csv)\n",
    "from sklearn.model_selection import train_test_split\n",
    "os.environ['TF_CPP_MIN_LOG_LEVEL']='2'\n",
    "# Input data files are available in the \"../input/\" directory.\n",
    "# For example, running this (by clicking run or pressing Shift+Enter) will list the files in the input directory\n",
    "import subprocess\n",
    "from subprocess import check_output\n",
    "try:\n",
    "    print(check_output([\"ls\", \"../v2\"]).decode(\"utf8\"))\n",
    "except subprocess.CalledProcessError as e:\n",
    "    raise RuntimeError(\"command '{}' return with error (code {}): {}\".format(e.cmd, e.returncode, e.output))\n",
    "# Any results you write to the current directory are saved as output.\n",
    "import tensorflow as tf"
   ]
  },
  {
   "cell_type": "code",
   "execution_count": 3,
   "metadata": {
    "collapsed": true
   },
   "outputs": [],
   "source": [
    "# now, let's read the frame-level data\n",
    "# due to execution time, we're only going to read the first video\n",
    "video_files = os.listdir(\"../v2/video/\")\n",
    "frame_files = os.listdir(\"../v2/frame/\")\n",
    "\n",
    "# Global variables\n",
    "num_labels = 4716"
   ]
  },
  {
   "cell_type": "code",
   "execution_count": 4,
   "metadata": {
    "collapsed": true
   },
   "outputs": [],
   "source": [
    "def createTargetVec(labels):\n",
    "    out = np.zeros((1, num_labels))\n",
    "    for label in labels:\n",
    "        out[0,label] = 1\n",
    "    return out"
   ]
  },
  {
   "cell_type": "code",
   "execution_count": 5,
   "metadata": {
    "collapsed": true
   },
   "outputs": [],
   "source": [
    "def get_dataset(frames, samples=5, k=0):\n",
    "    rgb_input = np.empty((samples, 100, 1024))\n",
    "    audio_input = np.empty((samples, 100, 128))\n",
    "    label_output = np.empty((samples, num_labels))\n",
    "    sess = tf.InteractiveSession()\n",
    "    for example in tf.python_io.tf_record_iterator(frames):        \n",
    "        tf_seq_example = tf.train.SequenceExample.FromString(example)\n",
    "        labels = tf_seq_example.context.feature['labels'].int64_list.value\n",
    "        rgb_frame = np.zeros((100, 1024))\n",
    "        audio_frame = np.zeros((100, 128))\n",
    "        for i in range(100):\n",
    "            rgb_frame[i] = tf.cast(tf.decode_raw(\n",
    "                   tf_seq_example.feature_lists.feature_list['rgb'].feature[i].bytes_list.value[0],tf.uint8)\n",
    "                          ,tf.float32).eval()\n",
    "            audio_frame[i] = tf.cast(tf.decode_raw(\n",
    "                    tf_seq_example.feature_lists.feature_list['audio'].feature[i].bytes_list.value[0],tf.uint8)\n",
    "                           ,tf.float32).eval()\n",
    "        rgb_input[k] = rgb_frame\n",
    "        audio_input[k] = audio_frame\n",
    "        label_output[k] = createTargetVec(labels[:])\n",
    "        k += 1\n",
    "        progress = (k / samples) * 100\n",
    "        if int(progress) % 10 == 0:\n",
    "            print(\"Progress\", progress, \"%\")\n",
    "        if k >= samples:\n",
    "            break\n",
    "    sess.close()\n",
    "    return audio_input, rgb_input, label_output"
   ]
  },
  {
   "cell_type": "code",
   "execution_count": 6,
   "metadata": {
    "collapsed": false
   },
   "outputs": [
    {
     "name": "stdout",
     "output_type": "stream",
     "text": [
      "Progress 20.0 %\n",
      "Progress 40.0 %\n",
      "Progress 60.0 %\n",
      "Progress 80.0 %\n",
      "Progress 100.0 %\n"
     ]
    }
   ],
   "source": [
    "# video_lvl_record = \"../v2/video/train-1.tfrecord\"\n",
    "frame_lvl_record = \"../v2/frame/train4f.tfrecord\"\n",
    "\n",
    "audio_input, rgb_input, label_output = get_dataset(frame_lvl_record)\n",
    "\n",
    "X_train_rgb, X_test_rgb, _, _ = train_test_split(rgb_input, label_output, test_size=0.2, random_state=42)\n",
    "X_train_audio, X_test_audio, y_train, y_test = train_test_split(audio_input, label_output, test_size=0.2, random_state=42)"
   ]
  },
  {
   "cell_type": "code",
   "execution_count": 7,
   "metadata": {
    "collapsed": false
   },
   "outputs": [
    {
     "name": "stdout",
     "output_type": "stream",
     "text": [
      "4 train rgb\n",
      "1 test rgb\n",
      "\n",
      "4 train sequences\n",
      "1 test sequences\n",
      "\n",
      "X_train_rgb shape: (4, 100, 1024)\n",
      "X_test_rgb shape: (1, 100, 1024)\n",
      "\n",
      "X_train_audio shape: (4, 100, 128)\n",
      "X_test_audio shape: (1, 100, 128)\n",
      "\n",
      "y_train shape: (4, 4716)\n",
      "y_test shape: (1, 4716)\n"
     ]
    }
   ],
   "source": [
    "print(len(X_train_rgb), 'train rgb')\n",
    "print(len(X_test_rgb), 'test rgb')\n",
    "print(\"\")\n",
    "print(len(X_train_audio), 'train sequences')\n",
    "print(len(X_test_audio), 'test sequences')\n",
    "print(\"\")\n",
    "print('X_train_rgb shape:', X_train_rgb.shape)\n",
    "print('X_test_rgb shape:', X_test_rgb.shape)\n",
    "print(\"\")\n",
    "print('X_train_audio shape:', X_train_audio.shape)\n",
    "print('X_test_audio shape:', X_test_audio.shape)\n",
    "print(\"\")\n",
    "print('y_train shape:', y_train.shape)\n",
    "print('y_test shape:', y_test.shape)"
   ]
  },
  {
   "cell_type": "markdown",
   "metadata": {},
   "source": [
    "## Lets take a look at the rgb data"
   ]
  },
  {
   "cell_type": "code",
   "execution_count": 8,
   "metadata": {
    "collapsed": true
   },
   "outputs": [],
   "source": [
    "import matplotlib.pyplot as plt\n",
    "import matplotlib.image as mpimg"
   ]
  },
  {
   "cell_type": "code",
   "execution_count": 9,
   "metadata": {
    "collapsed": false,
    "scrolled": true
   },
   "outputs": [
    {
     "data": {
      "text/plain": [
       "array([[[100.,  54.,  84., ...,  46.,  10., 132.],\n",
       "        [105.,   0.,  91., ..., 153.,  27., 103.],\n",
       "        [ 93.,  24.,  95., ...,  84., 113., 130.],\n",
       "        ...,\n",
       "        [ 90.,  35., 122., ..., 190., 155., 147.],\n",
       "        [ 86.,  26., 112., ..., 129., 100., 126.],\n",
       "        [ 81.,  12., 120., ..., 222., 114., 140.]],\n",
       "\n",
       "       [[ 65., 186., 255., ..., 151.,  58., 141.],\n",
       "        [ 51., 198., 255., ..., 144.,  63., 167.],\n",
       "        [ 89., 175., 255., ..., 255.,  80., 119.],\n",
       "        ...,\n",
       "        [148., 169., 255., ...,  13., 158., 101.],\n",
       "        [159., 156., 203., ..., 103., 186.,  56.],\n",
       "        [118., 176., 207., ..., 133., 156., 106.]],\n",
       "\n",
       "       [[  0.,  85., 148., ..., 124., 135., 133.],\n",
       "        [  0.,  62., 104., ..., 116., 111., 128.],\n",
       "        [  0.,  75., 103., ...,  74.,  26., 176.],\n",
       "        ...,\n",
       "        [144., 172.,  86., ..., 244.,  72.,  95.],\n",
       "        [210., 153., 100., ..., 255., 200., 189.],\n",
       "        [200., 160.,  99., ..., 194., 220., 195.]],\n",
       "\n",
       "       [[161.,  57.,  93., ...,  44., 179.,  85.],\n",
       "        [185.,  51., 105., ...,  82., 226.,   0.],\n",
       "        [181.,  41., 130., ..., 107., 231.,  42.],\n",
       "        ...,\n",
       "        [141., 164., 108., ..., 139.,  56.,  73.],\n",
       "        [128., 132., 100., ..., 110., 112., 132.],\n",
       "        [110., 155.,  86., ..., 102., 143., 138.]],\n",
       "\n",
       "       [[  0.,  72., 173., ..., 142., 119., 137.],\n",
       "        [  0.,  72., 173., ..., 142., 119., 137.],\n",
       "        [  0.,  72., 173., ..., 142., 119., 137.],\n",
       "        ...,\n",
       "        [229., 153., 194., ..., 103., 120., 188.],\n",
       "        [165., 165., 228., ..., 140., 101., 214.],\n",
       "        [226., 151., 219., ..., 124.,  91.,  88.]]])"
      ]
     },
     "execution_count": 9,
     "metadata": {},
     "output_type": "execute_result"
    }
   ],
   "source": [
    "rgb_input"
   ]
  },
  {
   "cell_type": "code",
   "execution_count": 10,
   "metadata": {
    "collapsed": false,
    "scrolled": true
   },
   "outputs": [
    {
     "data": {
      "text/plain": [
       "(5, 100, 1024)"
      ]
     },
     "execution_count": 10,
     "metadata": {},
     "output_type": "execute_result"
    }
   ],
   "source": [
    "rgb_input.shape"
   ]
  },
  {
   "cell_type": "code",
   "execution_count": 11,
   "metadata": {
    "collapsed": false
   },
   "outputs": [
    {
     "data": {
      "text/plain": [
       "array([[100.,  54.,  84., ...,  46.,  10., 132.],\n",
       "       [105.,   0.,  91., ..., 153.,  27., 103.],\n",
       "       [ 93.,  24.,  95., ...,  84., 113., 130.],\n",
       "       ...,\n",
       "       [ 90.,  35., 122., ..., 190., 155., 147.],\n",
       "       [ 86.,  26., 112., ..., 129., 100., 126.],\n",
       "       [ 81.,  12., 120., ..., 222., 114., 140.]])"
      ]
     },
     "execution_count": 11,
     "metadata": {},
     "output_type": "execute_result"
    }
   ],
   "source": [
    "rgb_input[0]"
   ]
  },
  {
   "cell_type": "code",
   "execution_count": 12,
   "metadata": {
    "collapsed": false
   },
   "outputs": [
    {
     "data": {
      "text/plain": [
       "(100, 1024)"
      ]
     },
     "execution_count": 12,
     "metadata": {},
     "output_type": "execute_result"
    }
   ],
   "source": [
    "rgb_input[0].shape"
   ]
  },
  {
   "cell_type": "code",
   "execution_count": 19,
   "metadata": {
    "collapsed": false
   },
   "outputs": [
    {
     "name": "stdout",
     "output_type": "stream",
     "text": [
      "The first video has 100 frames\n"
     ]
    }
   ],
   "source": [
    "print('The first video has %d frames' %len(rgb_input[0]))"
   ]
  },
  {
   "cell_type": "code",
   "execution_count": 18,
   "metadata": {
    "collapsed": false
   },
   "outputs": [
    {
     "data": {
      "text/plain": [
       "array([100.,  54.,  84., ...,  46.,  10., 132.])"
      ]
     },
     "execution_count": 18,
     "metadata": {},
     "output_type": "execute_result"
    }
   ],
   "source": [
    "rgb_input[0][0]"
   ]
  },
  {
   "cell_type": "code",
   "execution_count": 27,
   "metadata": {
    "collapsed": false
   },
   "outputs": [
    {
     "data": {
      "text/plain": [
       "(1024,)"
      ]
     },
     "execution_count": 27,
     "metadata": {},
     "output_type": "execute_result"
    }
   ],
   "source": [
    "rgb_input[0][0].shape"
   ]
  },
  {
   "cell_type": "code",
   "execution_count": 35,
   "metadata": {
    "collapsed": false
   },
   "outputs": [],
   "source": [
    "import numpy as np\n",
    "from matplotlib import pyplot as plt\n",
    "from PIL import Image\n",
    "import glob\n",
    "import cv2"
   ]
  },
  {
   "cell_type": "code",
   "execution_count": 38,
   "metadata": {
    "collapsed": false
   },
   "outputs": [],
   "source": [
    "# x_data = np.array( [np.array(cv2.imread(rgb_input[0][0])) for i in range(len(rgb_input[0][0]))] )\n",
    "# print (x_data.shape)"
   ]
  },
  {
   "cell_type": "markdown",
   "metadata": {},
   "source": [
    "## Now anylyze the Audio data\n",
    "** Since we're given sequential data, most likely I'll use an LSTM or GRU**"
   ]
  },
  {
   "cell_type": "code",
   "execution_count": null,
   "metadata": {
    "collapsed": false
   },
   "outputs": [],
   "source": []
  },
  {
   "cell_type": "code",
   "execution_count": null,
   "metadata": {
    "collapsed": true
   },
   "outputs": [],
   "source": []
  }
 ],
 "metadata": {
  "kernelspec": {
   "display_name": "Python 3",
   "language": "python",
   "name": "python3"
  },
  "language_info": {
   "codemirror_mode": {
    "name": "ipython",
    "version": 3
   },
   "file_extension": ".py",
   "mimetype": "text/x-python",
   "name": "python",
   "nbconvert_exporter": "python",
   "pygments_lexer": "ipython3",
   "version": "3.6.0"
  }
 },
 "nbformat": 4,
 "nbformat_minor": 2
}
